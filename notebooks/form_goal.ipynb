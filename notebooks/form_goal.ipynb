{
  "cells": [
    {
      "cell_type": "markdown",
      "metadata": {
        "id": "zFAHIoNKl7kp"
      },
      "source": [
        "Projet de LLM ISDEV EXPERTS"
      ]
    },
    {
      "cell_type": "markdown",
      "metadata": {
        "id": "3IzpJb4JfyuK"
      },
      "source": [
        "# **Modèle de génération de l'idée générale d'un formulaire**"
      ]
    },
    {
      "cell_type": "code",
      "execution_count": null,
      "metadata": {
        "id": "DV08_Hy8mE1F"
      },
      "outputs": [],
      "source": [
        "import pandas as pd\n",
        "import random"
      ]
    },
    {
      "cell_type": "code",
      "execution_count": null,
      "metadata": {
        "colab": {
          "base_uri": "https://localhost:8080/"
        },
        "id": "zEN8f3eScv9J",
        "outputId": "c3e4b39c-f123-46a1-980f-f429516abb21"
      },
      "outputs": [
        {
          "name": "stdout",
          "output_type": "stream",
          "text": [
            "Mounted at /content/drive\n"
          ]
        }
      ],
      "source": [
        "from google.colab import drive\n",
        "drive.mount('/content/drive')"
      ]
    },
    {
      "cell_type": "code",
      "execution_count": null,
      "metadata": {
        "colab": {
          "base_uri": "https://localhost:8080/"
        },
        "id": "1U9tGz4KkdbR",
        "outputId": "0badf9e8-e47f-4f96-ef0e-046e4e41c04b"
      },
      "outputs": [
        {
          "name": "stdout",
          "output_type": "stream",
          "text": [
            "/content\n"
          ]
        }
      ],
      "source": [
        "!pwd  # Vérifier le dossier courant"
      ]
    },
    {
      "cell_type": "code",
      "execution_count": null,
      "metadata": {
        "colab": {
          "base_uri": "https://localhost:8080/"
        },
        "id": "bZDZFjaskuL3",
        "outputId": "10d05e4b-062a-4f91-c2e5-6ae30a34971e"
      },
      "outputs": [
        {
          "name": "stdout",
          "output_type": "stream",
          "text": [
            " fichier_fusionne.csv\t\t    form_dataset_with_summaries.csv\n",
            "'form_dataset_grouped (1).gsheet'   form_dataset_with_summaries.gsheet\n",
            " form_dataset_grouped.csv\t    form_summarization\n",
            " form_dataset_grouped.gsheet\n"
          ]
        }
      ],
      "source": [
        "!ls /content/drive/My\\ Drive/isdev_nlp_project/ # List files in the target directory"
      ]
    },
    {
      "cell_type": "code",
      "execution_count": null,
      "metadata": {
        "colab": {
          "base_uri": "https://localhost:8080/"
        },
        "collapsed": true,
        "id": "YRqRSV7r60jA",
        "outputId": "da9880a9-9530-48dc-eeb0-bad2157f321d"
      },
      "outputs": [
        {
          "name": "stdout",
          "output_type": "stream",
          "text": [
            "                             question  \\\n",
            "0                 How is the parking?   \n",
            "1             How close is the wharf?   \n",
            "2  What do you think about the view ?   \n",
            "3  What do you think about the hotel?   \n",
            "4           How do you like the view?   \n",
            "\n",
            "                                              review  \\\n",
            "0  This is a great location. It is an easy walk t...   \n",
            "1  Used some of my Marriott &quot;points&quot; to...   \n",
            "2  We stayed here in October while attending the ...   \n",
            "3  My wife and I are both professionals. We are y...   \n",
            "4  The Grand Hyatt in San Francisco is close to e...   \n",
            "\n",
            "                            human_ans_spans  is_ques_subjective  \\\n",
            "0                Parking was $ 35 per night               False   \n",
            "1                            ANSWERNOTFOUND               False   \n",
            "2                            ANSWERNOTFOUND               False   \n",
            "3  I wonder if the hotels needed to fill up               False   \n",
            "4                    We had excellent views               False   \n",
            "\n",
            "   ques_subj_score  is_ans_subjective  ans_subj_score  \n",
            "0              0.0              False             0.0  \n",
            "1              0.0              False             0.0  \n",
            "2              0.0              False             0.0  \n",
            "3              0.0              False             0.0  \n",
            "4              0.0               True             1.0  \n",
            "\n",
            "Colonnes : question, review, human_ans_spans, is_ques_subjective, ques_subj_score, is_ans_subjective, ans_subj_score\n"
          ]
        }
      ],
      "source": [
        "# Charger le fichier d'origine\n",
        "df = pd.read_csv(\"/content/drive/My Drive/isdev_nlp_project/fichier_fusionne.csv\")\n",
        "\n",
        "# Aperçu des données\n",
        "print(df.head())\n",
        "# Afficher les colonnes sur une seule ligne\n",
        "print(f\"\\nColonnes : {', '.join(df.columns.tolist())}\")"
      ]
    },
    {
      "cell_type": "markdown",
      "metadata": {
        "id": "hRfV0mJ4DMGy"
      },
      "source": [
        "### Suppression des colonnes inutiles"
      ]
    },
    {
      "cell_type": "code",
      "execution_count": null,
      "metadata": {
        "id": "S3S8-iTjjd71"
      },
      "outputs": [],
      "source": [
        "# Garder uniquement la colonne 'question'\n",
        "df_questions = df[['question']].dropna().reset_index(drop=True)\n",
        "\n",
        "# Mélanger les questions\n",
        "questions = df_questions['question'].tolist()\n",
        "random.shuffle(questions)"
      ]
    },
    {
      "cell_type": "markdown",
      "metadata": {
        "id": "rXbLMkYzDZBt"
      },
      "source": [
        "### Regroupent des questions en groupe de 6 à 15 aléatoirement"
      ]
    },
    {
      "cell_type": "code",
      "execution_count": null,
      "metadata": {
        "id": "OQzx4LaMtT9q"
      },
      "outputs": [],
      "source": [
        "# Regrouper en formulaires de 6 à 15 questions\n",
        "grouped_data = []\n",
        "i = 0\n",
        "while i < len(questions):\n",
        "    group_size = random.randint(6, 15)\n",
        "    group = questions[i:i+group_size]\n",
        "    if len(group) >= 6:\n",
        "        grouped_data.append({\n",
        "            'form_questions': \" | \".join(group),  # Tu peux changer le séparateur si tu veux\n",
        "            'summary': \"\"  # Vide pour l'instant\n",
        "        })\n",
        "    i += group_size\n"
      ]
    },
    {
      "cell_type": "code",
      "execution_count": null,
      "metadata": {
        "colab": {
          "base_uri": "https://localhost:8080/"
        },
        "id": "oKPNvLtHtqsv",
        "outputId": "715941de-1be7-4ac3-b1ea-2bc38c9245f0"
      },
      "outputs": [
        {
          "name": "stdout",
          "output_type": "stream",
          "text": [
            "✅ Regroupement terminé. Fichier 'formulaires_regroupes.csv' créé.\n"
          ]
        }
      ],
      "source": [
        "# Sauvegarder le nouveau dataset\n",
        "df_grouped = pd.DataFrame(grouped_data)\n",
        "df_grouped.to_csv(\"formulaires_regroupes.csv\", index=False)\n",
        "\n",
        "print(\"✅ Regroupement terminé. Fichier 'formulaires_regroupes.csv' créé.\")"
      ]
    },
    {
      "cell_type": "code",
      "execution_count": null,
      "metadata": {
        "colab": {
          "base_uri": "https://localhost:8080/"
        },
        "id": "vkpjLb2Itxrv",
        "outputId": "b9bae1fd-a55e-4523-c9d2-dd699cb0a806"
      },
      "outputs": [
        {
          "name": "stdout",
          "output_type": "stream",
          "text": [
            "                                      form_questions summary\n",
            "0  Where can I get a cheap hotel? | How is the se...        \n",
            "1  How is the hotel inside? | How is the hotel? |...        \n",
            "2  Does the hotel offer good service? | How is ca...        \n",
            "3  How is the service? | Is the wine nice? | How ...        \n",
            "4  What is your take on the service by the doctor...        \n",
            "\n",
            "Colonnes : ['form_questions', 'summary']\n"
          ]
        }
      ],
      "source": [
        "print(df_grouped.head())\n",
        "print(f\"\\nColonnes : {df_grouped.columns.tolist()}\")"
      ]
    },
    {
      "cell_type": "markdown",
      "metadata": {
        "id": "gfANJ52H0gP0"
      },
      "source": [
        "### **Remplissage automatique de la colonne des Summaries**"
      ]
    },
    {
      "cell_type": "markdown",
      "metadata": {
        "id": "UM78fN8a5sNK"
      },
      "source": [
        "Il s'afit ici d'écrire un script qui analyse chaque bloc de questions regroupées et d'entrouver l'idée générale automatiquement"
      ]
    },
    {
      "cell_type": "markdown",
      "metadata": {
        "id": "-FNpsUWU6QbC"
      },
      "source": [
        "1.   Installation des dépendances\n",
        "\n",
        "\n",
        "\n",
        "\n"
      ]
    },
    {
      "cell_type": "code",
      "execution_count": null,
      "metadata": {
        "colab": {
          "base_uri": "https://localhost:8080/"
        },
        "collapsed": true,
        "id": "G0iHBKeIuBEA",
        "outputId": "0b585afc-b24f-4898-c601-12b73eba0218"
      },
      "outputs": [
        {
          "name": "stdout",
          "output_type": "stream",
          "text": [
            "Requirement already satisfied: transformers in /usr/local/lib/python3.11/dist-packages (4.54.1)\n",
            "Requirement already satisfied: datasets in /usr/local/lib/python3.11/dist-packages (4.0.0)\n",
            "Requirement already satisfied: sentencepiece in /usr/local/lib/python3.11/dist-packages (0.2.0)\n",
            "Requirement already satisfied: filelock in /usr/local/lib/python3.11/dist-packages (from transformers) (3.18.0)\n",
            "Requirement already satisfied: huggingface-hub<1.0,>=0.34.0 in /usr/local/lib/python3.11/dist-packages (from transformers) (0.34.3)\n",
            "Requirement already satisfied: numpy>=1.17 in /usr/local/lib/python3.11/dist-packages (from transformers) (2.0.2)\n",
            "Requirement already satisfied: packaging>=20.0 in /usr/local/lib/python3.11/dist-packages (from transformers) (25.0)\n",
            "Requirement already satisfied: pyyaml>=5.1 in /usr/local/lib/python3.11/dist-packages (from transformers) (6.0.2)\n",
            "Requirement already satisfied: regex!=2019.12.17 in /usr/local/lib/python3.11/dist-packages (from transformers) (2024.11.6)\n",
            "Requirement already satisfied: requests in /usr/local/lib/python3.11/dist-packages (from transformers) (2.32.3)\n",
            "Requirement already satisfied: tokenizers<0.22,>=0.21 in /usr/local/lib/python3.11/dist-packages (from transformers) (0.21.4)\n",
            "Requirement already satisfied: safetensors>=0.4.3 in /usr/local/lib/python3.11/dist-packages (from transformers) (0.5.3)\n",
            "Requirement already satisfied: tqdm>=4.27 in /usr/local/lib/python3.11/dist-packages (from transformers) (4.67.1)\n",
            "Requirement already satisfied: pyarrow>=15.0.0 in /usr/local/lib/python3.11/dist-packages (from datasets) (18.1.0)\n",
            "Requirement already satisfied: dill<0.3.9,>=0.3.0 in /usr/local/lib/python3.11/dist-packages (from datasets) (0.3.8)\n",
            "Requirement already satisfied: pandas in /usr/local/lib/python3.11/dist-packages (from datasets) (2.2.2)\n",
            "Requirement already satisfied: xxhash in /usr/local/lib/python3.11/dist-packages (from datasets) (3.5.0)\n",
            "Requirement already satisfied: multiprocess<0.70.17 in /usr/local/lib/python3.11/dist-packages (from datasets) (0.70.16)\n",
            "Requirement already satisfied: fsspec<=2025.3.0,>=2023.1.0 in /usr/local/lib/python3.11/dist-packages (from fsspec[http]<=2025.3.0,>=2023.1.0->datasets) (2025.3.0)\n",
            "Requirement already satisfied: aiohttp!=4.0.0a0,!=4.0.0a1 in /usr/local/lib/python3.11/dist-packages (from fsspec[http]<=2025.3.0,>=2023.1.0->datasets) (3.12.15)\n",
            "Requirement already satisfied: typing-extensions>=3.7.4.3 in /usr/local/lib/python3.11/dist-packages (from huggingface-hub<1.0,>=0.34.0->transformers) (4.14.1)\n",
            "Requirement already satisfied: hf-xet<2.0.0,>=1.1.3 in /usr/local/lib/python3.11/dist-packages (from huggingface-hub<1.0,>=0.34.0->transformers) (1.1.5)\n",
            "Requirement already satisfied: charset-normalizer<4,>=2 in /usr/local/lib/python3.11/dist-packages (from requests->transformers) (3.4.2)\n",
            "Requirement already satisfied: idna<4,>=2.5 in /usr/local/lib/python3.11/dist-packages (from requests->transformers) (3.10)\n",
            "Requirement already satisfied: urllib3<3,>=1.21.1 in /usr/local/lib/python3.11/dist-packages (from requests->transformers) (2.5.0)\n",
            "Requirement already satisfied: certifi>=2017.4.17 in /usr/local/lib/python3.11/dist-packages (from requests->transformers) (2025.7.14)\n",
            "Requirement already satisfied: python-dateutil>=2.8.2 in /usr/local/lib/python3.11/dist-packages (from pandas->datasets) (2.9.0.post0)\n",
            "Requirement already satisfied: pytz>=2020.1 in /usr/local/lib/python3.11/dist-packages (from pandas->datasets) (2025.2)\n",
            "Requirement already satisfied: tzdata>=2022.7 in /usr/local/lib/python3.11/dist-packages (from pandas->datasets) (2025.2)\n",
            "Requirement already satisfied: aiohappyeyeballs>=2.5.0 in /usr/local/lib/python3.11/dist-packages (from aiohttp!=4.0.0a0,!=4.0.0a1->fsspec[http]<=2025.3.0,>=2023.1.0->datasets) (2.6.1)\n",
            "Requirement already satisfied: aiosignal>=1.4.0 in /usr/local/lib/python3.11/dist-packages (from aiohttp!=4.0.0a0,!=4.0.0a1->fsspec[http]<=2025.3.0,>=2023.1.0->datasets) (1.4.0)\n",
            "Requirement already satisfied: attrs>=17.3.0 in /usr/local/lib/python3.11/dist-packages (from aiohttp!=4.0.0a0,!=4.0.0a1->fsspec[http]<=2025.3.0,>=2023.1.0->datasets) (25.3.0)\n",
            "Requirement already satisfied: frozenlist>=1.1.1 in /usr/local/lib/python3.11/dist-packages (from aiohttp!=4.0.0a0,!=4.0.0a1->fsspec[http]<=2025.3.0,>=2023.1.0->datasets) (1.7.0)\n",
            "Requirement already satisfied: multidict<7.0,>=4.5 in /usr/local/lib/python3.11/dist-packages (from aiohttp!=4.0.0a0,!=4.0.0a1->fsspec[http]<=2025.3.0,>=2023.1.0->datasets) (6.6.3)\n",
            "Requirement already satisfied: propcache>=0.2.0 in /usr/local/lib/python3.11/dist-packages (from aiohttp!=4.0.0a0,!=4.0.0a1->fsspec[http]<=2025.3.0,>=2023.1.0->datasets) (0.3.2)\n",
            "Requirement already satisfied: yarl<2.0,>=1.17.0 in /usr/local/lib/python3.11/dist-packages (from aiohttp!=4.0.0a0,!=4.0.0a1->fsspec[http]<=2025.3.0,>=2023.1.0->datasets) (1.20.1)\n",
            "Requirement already satisfied: six>=1.5 in /usr/local/lib/python3.11/dist-packages (from python-dateutil>=2.8.2->pandas->datasets) (1.17.0)\n"
          ]
        }
      ],
      "source": [
        "!pip install transformers datasets sentencepiece"
      ]
    },
    {
      "cell_type": "markdown",
      "metadata": {
        "id": "Pj37MvOj6irm"
      },
      "source": [
        "\n",
        "\n",
        "2.  Création du pipeline de summarization\n",
        "\n"
      ]
    },
    {
      "cell_type": "code",
      "execution_count": null,
      "metadata": {
        "colab": {
          "base_uri": "https://localhost:8080/",
          "referenced_widgets": [
            "53a1b14a68274928b2f166a4a080a1c6",
            "4ef8ecd8d6db4be48a99eb39932ad811",
            "eee4436aeaa24d38921007ea3e1e9217",
            "3a596fc58cad4e51b3b4c8e88d2180db",
            "9c3af5c5e98f47e9bc111b72ee25ef19",
            "e95331a9e1cd432e83c9abb0658e7677"
          ]
        },
        "id": "ixCq0uRw6ZcX",
        "outputId": "02cdf83e-f365-4fe3-e713-5178cb180dcc"
      },
      "outputs": [
        {
          "data": {
            "application/vnd.jupyter.widget-view+json": {
              "model_id": "53a1b14a68274928b2f166a4a080a1c6",
              "version_major": 2,
              "version_minor": 0
            },
            "text/plain": [
              "config.json: 0.00B [00:00, ?B/s]"
            ]
          },
          "metadata": {},
          "output_type": "display_data"
        },
        {
          "data": {
            "application/vnd.jupyter.widget-view+json": {
              "model_id": "4ef8ecd8d6db4be48a99eb39932ad811",
              "version_major": 2,
              "version_minor": 0
            },
            "text/plain": [
              "model.safetensors:   0%|          | 0.00/1.63G [00:00<?, ?B/s]"
            ]
          },
          "metadata": {},
          "output_type": "display_data"
        },
        {
          "data": {
            "application/vnd.jupyter.widget-view+json": {
              "model_id": "eee4436aeaa24d38921007ea3e1e9217",
              "version_major": 2,
              "version_minor": 0
            },
            "text/plain": [
              "generation_config.json:   0%|          | 0.00/363 [00:00<?, ?B/s]"
            ]
          },
          "metadata": {},
          "output_type": "display_data"
        },
        {
          "data": {
            "application/vnd.jupyter.widget-view+json": {
              "model_id": "3a596fc58cad4e51b3b4c8e88d2180db",
              "version_major": 2,
              "version_minor": 0
            },
            "text/plain": [
              "vocab.json: 0.00B [00:00, ?B/s]"
            ]
          },
          "metadata": {},
          "output_type": "display_data"
        },
        {
          "data": {
            "application/vnd.jupyter.widget-view+json": {
              "model_id": "9c3af5c5e98f47e9bc111b72ee25ef19",
              "version_major": 2,
              "version_minor": 0
            },
            "text/plain": [
              "merges.txt: 0.00B [00:00, ?B/s]"
            ]
          },
          "metadata": {},
          "output_type": "display_data"
        },
        {
          "data": {
            "application/vnd.jupyter.widget-view+json": {
              "model_id": "e95331a9e1cd432e83c9abb0658e7677",
              "version_major": 2,
              "version_minor": 0
            },
            "text/plain": [
              "tokenizer.json: 0.00B [00:00, ?B/s]"
            ]
          },
          "metadata": {},
          "output_type": "display_data"
        },
        {
          "name": "stderr",
          "output_type": "stream",
          "text": [
            "Device set to use cpu\n"
          ]
        }
      ],
      "source": [
        "from transformers import pipeline\n",
        "from tqdm import tqdm\n",
        "\n",
        "# Charger le modèle\n",
        "summarizer = pipeline(\"summarization\", model=\"facebook/bart-large-cnn\")\n",
        "\n",
        "# Créer une colonne vide pour les résumés\n",
        "df_grouped[\"summary\"] = \"\""
      ]
    },
    {
      "cell_type": "code",
      "execution_count": null,
      "metadata": {
        "colab": {
          "base_uri": "https://localhost:8080/"
        },
        "id": "Nn_EMov4_F_K",
        "outputId": "bde94d72-b6b1-4aea-df59-1b33da7e7e0d"
      },
      "outputs": [
        {
          "data": {
            "text/plain": [
              "['form_questions', 'summary']"
            ]
          },
          "execution_count": 12,
          "metadata": {},
          "output_type": "execute_result"
        }
      ],
      "source": [
        "df_grouped.columns.tolist()"
      ]
    },
    {
      "cell_type": "markdown",
      "metadata": {
        "id": "uaYjRtRD8fIm"
      },
      "source": [
        "3. Génération des résumés par lots"
      ]
    },
    {
      "cell_type": "code",
      "execution_count": null,
      "metadata": {
        "colab": {
          "base_uri": "https://localhost:8080/"
        },
        "collapsed": true,
        "id": "HdnoFi1h6-UZ",
        "outputId": "4c625fe6-a1c2-4655-bf0f-983c2c225542"
      },
      "outputs": [
        {
          "name": "stderr",
          "output_type": "stream",
          "text": [
            " 12%|█▎        | 3/24 [05:26<36:55, 105.48s/it]Your max_length is set to 45, but your input_length is only 41. Since this is a summarization task, where outputs shorter than the input are typically wanted, you might consider decreasing max_length manually, e.g. summarizer('...', max_length=20)\n",
            " 21%|██        | 5/24 [08:37<31:21, 99.03s/it] Your max_length is set to 45, but your input_length is only 37. Since this is a summarization task, where outputs shorter than the input are typically wanted, you might consider decreasing max_length manually, e.g. summarizer('...', max_length=18)\n",
            " 54%|█████▍    | 13/24 [20:41<16:31, 90.14s/it]Your max_length is set to 45, but your input_length is only 44. Since this is a summarization task, where outputs shorter than the input are typically wanted, you might consider decreasing max_length manually, e.g. summarizer('...', max_length=22)\n",
            " 67%|██████▋   | 16/24 [25:03<11:50, 88.85s/it]Your max_length is set to 45, but your input_length is only 44. Since this is a summarization task, where outputs shorter than the input are typically wanted, you might consider decreasing max_length manually, e.g. summarizer('...', max_length=22)\n",
            " 79%|███████▉  | 19/24 [29:24<07:15, 87.18s/it]Your max_length is set to 45, but your input_length is only 42. Since this is a summarization task, where outputs shorter than the input are typically wanted, you might consider decreasing max_length manually, e.g. summarizer('...', max_length=21)\n",
            " 88%|████████▊ | 21/24 [32:29<04:29, 89.91s/it]Your max_length is set to 45, but your input_length is only 37. Since this is a summarization task, where outputs shorter than the input are typically wanted, you might consider decreasing max_length manually, e.g. summarizer('...', max_length=18)\n",
            " 92%|█████████▏| 22/24 [33:51<02:55, 87.50s/it]Your max_length is set to 45, but your input_length is only 42. Since this is a summarization task, where outputs shorter than the input are typically wanted, you might consider decreasing max_length manually, e.g. summarizer('...', max_length=21)\n",
            "100%|██████████| 24/24 [36:26<00:00, 91.11s/it]\n"
          ]
        }
      ],
      "source": [
        "batch_size = 10\n",
        "\n",
        "for i in tqdm(range(0, len(df_grouped), batch_size)):\n",
        "    batch = df_grouped[\"form_questions\"].iloc[i:i+batch_size].tolist()\n",
        "    try:\n",
        "        summaries = summarizer(batch, max_length=45, min_length=15, do_sample=False)\n",
        "        for j, summary in enumerate(summaries):\n",
        "            df_grouped.at[i + j, \"summary\"] = summary['summary_text']\n",
        "    except Exception as e:\n",
        "        print(f\"Erreur à la ligne {i} : {e}\")"
      ]
    },
    {
      "cell_type": "markdown",
      "metadata": {
        "id": "WUQfdOVhDWuX"
      },
      "source": [
        "4. Sauvegarde du nouveau fichier CSV"
      ]
    },
    {
      "cell_type": "code",
      "execution_count": null,
      "metadata": {
        "colab": {
          "base_uri": "https://localhost:8080/"
        },
        "id": "ko1AFzF98q15",
        "outputId": "130e193b-acf6-4e7c-cafa-e7cea15edc1e"
      },
      "outputs": [
        {
          "name": "stdout",
          "output_type": "stream",
          "text": [
            "Fichier sauvegardé à : /content/drive/My Drive/isdev_nlp_project/form_dataset_with_summaries.csv\n"
          ]
        }
      ],
      "source": [
        "output_path = '/content/drive/My Drive/isdev_nlp_project/form_dataset_with_summaries.csv'\n",
        "df_grouped.to_csv(output_path, index=False)\n",
        "print(\"Fichier sauvegardé à :\", output_path)"
      ]
    },
    {
      "cell_type": "markdown",
      "metadata": {
        "id": "Ng0ByFHNKrSM"
      },
      "source": [
        "## **Entrainement des données déjà prétraitées**"
      ]
    },
    {
      "cell_type": "markdown",
      "metadata": {
        "id": "P0JP_HY6LPXs"
      },
      "source": [
        "1. **Chargement des données**\n"
      ]
    },
    {
      "cell_type": "code",
      "execution_count": null,
      "metadata": {
        "colab": {
          "base_uri": "https://localhost:8080/"
        },
        "id": "E4m7Grc-N8S4",
        "outputId": "5df8b65f-809e-436a-da4c-bf201b010eb1"
      },
      "outputs": [
        {
          "name": "stdout",
          "output_type": "stream",
          "text": [
            "Training set shape: (190, 2)\n",
            "Testing set shape: (48, 2)\n"
          ]
        }
      ],
      "source": [
        "from sklearn.model_selection import train_test_split\n",
        "\n",
        "# Split the data into training and testing sets\n",
        "train_df, test_df = train_test_split(df_grouped, test_size=0.2, random_state=42)\n",
        "\n",
        "print(\"Training set shape:\", train_df.shape)\n",
        "print(\"Testing set shape:\", test_df.shape)"
      ]
    },
    {
      "cell_type": "code",
      "execution_count": null,
      "metadata": {
        "colab": {
          "background_save": true,
          "base_uri": "https://localhost:8080/",
          "height": 404,
          "referenced_widgets": [
            "5ccc263957a646d39ab5851ff2317684",
            "945e4a80deb544e4844a08946d68bdef",
            "78d303df46bd4bdaaf957cda7a7258b2",
            "4f2788299214477ba578c7b5bf0410b2",
            "0727ce662bae45a799a146cedb18e29a",
            "fc838eff51e34ad1ad1ace8b40fa2291",
            "549c191fcf6d4277ab7a874762df6037",
            "505c5b5f9b0e477dadd9402270a1f31c",
            "3c165cbbdcc440f6b414aa29a9e1f5bc",
            "3dd58577d0c84790a7f8fd6a0e42c712",
            "a21f332aea974af3a604e5a3cd37242e",
            "c95cbfa41fe540e0bd119aceadef8584",
            "331f7c44f3664e9b90cee9a0d71c588a",
            "419f398b67b84c5a88bae6e27fa4ae32",
            "3e37b4ef65d448eaa08216dae7f2131e",
            "48fd815d114e415785e24756d4eaf0fb",
            "017443561cc449208c45dc923441ef6a",
            "05440668b2864e09a2000f0ccc48af5b",
            "1bc84aca3f264e54a459852971317577",
            "e86e364d62bd4f1a9d4ead3036827b3d",
            "bd11092b233945b4aae4403bcaf2b89d",
            "7616412c718b4eb58ef35eef5da71461",
            "6314b0a2a9b34ea090e7e463151eda10",
            "2c36e43587434768afa66141013c0427",
            "340d8ea0206048019813dfd2b09d4ed9",
            "785d96c88f354c4dba58ebcf246402c9",
            "9e6f3a9faba2434283bcd244f7450732",
            "8c520bd437634856af251a8d853df5fc",
            "dc05f00821554f0b9549e7536d017f0f",
            "3c8085a4227247b5893bb2420157d80d",
            "920a49c5a24f4214aa0b50a7c585fc98",
            "9be33f1451994a3d9545f5174e411cbf",
            "f1e99f4b04b5491295a2b656f12b8fa1",
            "0e83758055674e1d9957d72cb1c76ffa",
            "3b8c0cd8837747159cbea4e8338b51c1",
            "695398cd95354851b473d95b8046b56c",
            "86965b1edd884d29a38d4cfcc6fbecaf",
            "90ffe0c90890462bb108ed90009395ac",
            "43c5c797ff3b48cca7e04f32ac99e390",
            "1a34a1aa7c204ff9ae93e3c4959a36f9",
            "00aaedc7bfbe41569c20c840f535a714",
            "b61c5418b4134605a188aad1e0f74f62",
            "b2010f6e6a714d28af661a3a174a8f3d",
            "be90868c5e4843e5a15380a79696a375",
            "8f1238438bc14649ade957b14041fd39",
            "c6ce4ec0c81741178de6e2dc970df738",
            "68654dc2a61348f2bc0a1583485b1aa9",
            "c7b0fbf04c5d43f6bad336e5db9f614d",
            "d86dcc3701824e9c9f7ddb3e0043fc82",
            "78c99b8e10334d24bd2ed874c6185c19",
            "07a19f0d241b49309f8c677848b45a6a",
            "edb85dace0c640a4b09fc59d7db78a63",
            "2691869b18e14b9e9d9682ca1eb4766d",
            "11d91bcd336f4e5cb60fc171a60bbd69",
            "ee28b20d08f04a5a857dded0fa8585d2",
            "887bb08a205a4d5f91ec56df1edea412",
            "704b6312932b4778a81cba825fd91f1e",
            "65ab9b2774294363b3700a04d6ae346a",
            "6b274089d33c486f84b3aeebe7bb4f5d",
            "3daa3d02a371464f8524c131ec2876f5",
            "6991cd898778457bbff86a138bfb0418",
            "07740a71aa454422ace5a6ec2314910a",
            "7ff926bdfe13485f8380a73d52e0a0ef",
            "829629553094472bb82c27e8cc658a3d",
            "ff7462353c3043ee88bb338c30bd2074",
            "38cbaf7135734f8f965ee714d5d06bb4"
          ]
        },
        "collapsed": true,
        "id": "knzbNlayDr2K",
        "outputId": "b9c19daf-5813-4b41-f42e-52516fe113d2"
      },
      "outputs": [
        {
          "data": {
            "application/vnd.jupyter.widget-view+json": {
              "model_id": "5ccc263957a646d39ab5851ff2317684",
              "version_major": 2,
              "version_minor": 0
            },
            "text/plain": [
              "tokenizer_config.json:   0%|          | 0.00/2.32k [00:00<?, ?B/s]"
            ]
          },
          "metadata": {},
          "output_type": "display_data"
        },
        {
          "data": {
            "application/vnd.jupyter.widget-view+json": {
              "model_id": "c95cbfa41fe540e0bd119aceadef8584",
              "version_major": 2,
              "version_minor": 0
            },
            "text/plain": [
              "spiece.model:   0%|          | 0.00/792k [00:00<?, ?B/s]"
            ]
          },
          "metadata": {},
          "output_type": "display_data"
        },
        {
          "data": {
            "application/vnd.jupyter.widget-view+json": {
              "model_id": "6314b0a2a9b34ea090e7e463151eda10",
              "version_major": 2,
              "version_minor": 0
            },
            "text/plain": [
              "tokenizer.json:   0%|          | 0.00/1.39M [00:00<?, ?B/s]"
            ]
          },
          "metadata": {},
          "output_type": "display_data"
        },
        {
          "name": "stderr",
          "output_type": "stream",
          "text": [
            "/usr/local/lib/python3.11/dist-packages/transformers/tokenization_utils_base.py:3950: UserWarning: `as_target_tokenizer` is deprecated and will be removed in v5 of Transformers. You can tokenize your labels by using the argument `text_target` of the regular `__call__` method (either in the same call as your input texts if you use the same keyword arguments, or in a separate call.\n",
            "  warnings.warn(\n"
          ]
        },
        {
          "data": {
            "application/vnd.jupyter.widget-view+json": {
              "model_id": "0e83758055674e1d9957d72cb1c76ffa",
              "version_major": 2,
              "version_minor": 0
            },
            "text/plain": [
              "config.json:   0%|          | 0.00/1.21k [00:00<?, ?B/s]"
            ]
          },
          "metadata": {},
          "output_type": "display_data"
        },
        {
          "data": {
            "application/vnd.jupyter.widget-view+json": {
              "model_id": "8f1238438bc14649ade957b14041fd39",
              "version_major": 2,
              "version_minor": 0
            },
            "text/plain": [
              "model.safetensors:   0%|          | 0.00/242M [00:00<?, ?B/s]"
            ]
          },
          "metadata": {},
          "output_type": "display_data"
        },
        {
          "data": {
            "application/vnd.jupyter.widget-view+json": {
              "model_id": "887bb08a205a4d5f91ec56df1edea412",
              "version_major": 2,
              "version_minor": 0
            },
            "text/plain": [
              "generation_config.json:   0%|          | 0.00/147 [00:00<?, ?B/s]"
            ]
          },
          "metadata": {},
          "output_type": "display_data"
        },
        {
          "name": "stderr",
          "output_type": "stream",
          "text": [
            "/tmp/ipython-input-554662546.py:45: FutureWarning: `tokenizer` is deprecated and will be removed in version 5.0.0 for `Trainer.__init__`. Use `processing_class` instead.\n",
            "  trainer = Trainer(\n",
            "\u001b[34m\u001b[1mwandb\u001b[0m: \u001b[33mWARNING\u001b[0m The `run_name` is currently set to the same value as `TrainingArguments.output_dir`. If this was not intended, please specify a different run name by setting the `TrainingArguments.run_name` parameter.\n"
          ]
        },
        {
          "data": {
            "application/javascript": [
              "\n",
              "        window._wandbApiKey = new Promise((resolve, reject) => {\n",
              "            function loadScript(url) {\n",
              "            return new Promise(function(resolve, reject) {\n",
              "                let newScript = document.createElement(\"script\");\n",
              "                newScript.onerror = reject;\n",
              "                newScript.onload = resolve;\n",
              "                document.body.appendChild(newScript);\n",
              "                newScript.src = url;\n",
              "            });\n",
              "            }\n",
              "            loadScript(\"https://cdn.jsdelivr.net/npm/postmate/build/postmate.min.js\").then(() => {\n",
              "            const iframe = document.createElement('iframe')\n",
              "            iframe.style.cssText = \"width:0;height:0;border:none\"\n",
              "            document.body.appendChild(iframe)\n",
              "            const handshake = new Postmate({\n",
              "                container: iframe,\n",
              "                url: 'https://wandb.ai/authorize'\n",
              "            });\n",
              "            const timeout = setTimeout(() => reject(\"Couldn't auto authenticate\"), 5000)\n",
              "            handshake.then(function(child) {\n",
              "                child.on('authorize', data => {\n",
              "                    clearTimeout(timeout)\n",
              "                    resolve(data)\n",
              "                });\n",
              "            });\n",
              "            })\n",
              "        });\n",
              "    "
            ],
            "text/plain": [
              "<IPython.core.display.Javascript object>"
            ]
          },
          "metadata": {},
          "output_type": "display_data"
        },
        {
          "name": "stderr",
          "output_type": "stream",
          "text": [
            "\u001b[34m\u001b[1mwandb\u001b[0m: Logging into wandb.ai. (Learn how to deploy a W&B server locally: https://wandb.me/wandb-server)\n",
            "\u001b[34m\u001b[1mwandb\u001b[0m: You can find your API key in your browser here: https://wandb.ai/authorize?ref=models\n",
            "wandb: Paste an API key from your profile and hit enter:"
          ]
        }
      ],
      "source": [
        "from transformers import AutoTokenizer\n",
        "\n",
        "model_checkpoint = \"t5-small\"\n",
        "tokenizer = AutoTokenizer.from_pretrained(model_checkpoint)\n",
        "\n",
        "max_input_length = 512\n",
        "max_target_length = 64\n",
        "\n",
        "def preprocess(examples):\n",
        "    inputs = examples[\"form_questions\"]\n",
        "    targets = examples[\"summary\"]\n",
        "    model_inputs = tokenizer(inputs, max_length=max_input_length, truncation=True)\n",
        "\n",
        "    with tokenizer.as_target_tokenizer():\n",
        "        labels = tokenizer(targets, max_length=max_target_length, truncation=True)\n",
        "\n",
        "    model_inputs[\"labels\"] = labels[\"input_ids\"]\n",
        "    return model_inputs\n",
        "\n",
        "# Instead of loading from CSV, use your existing DataFrames:\n",
        "# Assuming 'train_df' and 'test_df' are your Pandas DataFrames\n",
        "train_dataset = train_df.apply(lambda row: preprocess(row.to_dict()), axis=1).tolist()\n",
        "test_dataset = test_df.apply(lambda row: preprocess(row.to_dict()), axis=1).tolist()\n",
        "\n",
        "# Continue with the rest of your code...\n",
        "from transformers import AutoModelForSeq2SeqLM, TrainingArguments, Trainer, DataCollatorForSeq2Seq\n",
        "\n",
        "model = AutoModelForSeq2SeqLM.from_pretrained(model_checkpoint)\n",
        "\n",
        "# Define training_args here:\n",
        "from transformers import TrainingArguments\n",
        "\n",
        "training_args = TrainingArguments(\n",
        "    output_dir=\"./results\",\n",
        "    per_device_train_batch_size=8,\n",
        "    per_device_eval_batch_size=64,\n",
        "    num_train_epochs=15,\n",
        "    logging_dir='./logs',\n",
        ")\n",
        "\n",
        "# Define data_collator before passing it to Trainer\n",
        "from transformers import DataCollatorForSeq2Seq\n",
        "data_collator = DataCollatorForSeq2Seq(tokenizer=tokenizer, model=model)\n",
        "\n",
        "trainer = Trainer(\n",
        "    model=model,\n",
        "    args=training_args,\n",
        "    train_dataset=train_dataset,  # Use the processed train_dataset directly\n",
        "    eval_dataset=test_dataset,   # Use the processed test_dataset directly\n",
        "    tokenizer=tokenizer,\n",
        "    data_collator=data_collator,  # Add data_collator\n",
        ")\n",
        "\n",
        "trainer.train()"
      ]
    },
    {
      "cell_type": "code",
      "execution_count": null,
      "metadata": {
        "id": "iKMseiGmNtCP"
      },
      "outputs": [],
      "source": [
        "# After training:\n",
        "eval_results = trainer.evaluate()\n",
        "print(eval_results) # Print evaluation metrics like loss, accuracy, etc."
      ]
    },
    {
      "cell_type": "code",
      "execution_count": null,
      "metadata": {
        "id": "VybQUFcvN4PG"
      },
      "outputs": [],
      "source": [
        "trainer.save_model(\"/content/isdev_nlp_project/form_summarization/new_t5_model\")\n",
        "# Example: trainer.save_model(\"./my_form_summarization_model\")"
      ]
    },
    {
      "cell_type": "code",
      "execution_count": null,
      "metadata": {
        "id": "NvoJp7cuOQnc"
      },
      "outputs": [],
      "source": [
        "# Test the model\n",
        "from transformers import AutoModelForSeq2SeqLM, AutoTokenizer, pipeline\n",
        "\n",
        "# Load the model and tokenizer\n",
        "model_path = \"/content/isdev_nlp_project/form_summarization/new_t5_model\"  # Replace with your model's path\n",
        "model = AutoModelForSeq2SeqLM.from_pretrained(model_path)\n",
        "tokenizer = AutoTokenizer.from_pretrained(model_path)\n",
        "\n",
        "# Create a summarization pipeline\n",
        "summarizer = pipeline(\"summarization\", model=model, tokenizer=tokenizer)\n",
        "\n",
        "# Test on a new input\n",
        "input_text = \"How was the hotel room? | Was the breakfast satisfying? | Did you enjoy your stay? | Is there anything you would like to be ameliorate? | Can you recommend us to someone?\"\n",
        "summary = summarizer(input_text, max_length=60, min_length=15, do_sample=False)\n",
        "print(summary[0]['summary_text'])"
      ]
    },
    {
      "cell_type": "markdown",
      "metadata": {
        "id": "bu2MzaIkMVAF"
      },
      "source": [
        "2. **Prétraitement (Tokenisation)**"
      ]
    },
    {
      "cell_type": "code",
      "execution_count": null,
      "metadata": {
        "id": "0fZ4NW-Et6kY"
      },
      "outputs": [],
      "source": [
        "from sklearn.model_selection import train_test_split\n",
        "\n",
        "# Split the data into training and testing sets\n",
        "train_df, test_df = train_test_split(df_grouped, test_size=0.2, random_state=42)\n",
        "\n",
        "print(\"Training set shape:\", train_df.shape)\n",
        "print(\"Testing set shape:\", test_df.shape)"
      ]
    },
    {
      "cell_type": "code",
      "execution_count": null,
      "metadata": {
        "id": "GUpaJ9aCLsFm"
      },
      "outputs": [],
      "source": [
        "from transformers import AutoTokenizer\n",
        "\n",
        "model_checkpoint = \"t5-small\"\n",
        "tokenizer = AutoTokenizer.from_pretrained(model_checkpoint)\n",
        "\n",
        "max_input_length = 512\n",
        "max_target_length = 64\n",
        "\n",
        "def preprocess(examples):\n",
        "    inputs = examples[\"form_questions\"]\n",
        "    targets = examples[\"summary\"]\n",
        "    model_inputs = tokenizer(inputs, max_length=max_input_length, truncation=True)\n",
        "\n",
        "    with tokenizer.as_target_tokenizer():\n",
        "        labels = tokenizer(targets, max_length=max_target_length, truncation=True)\n",
        "\n",
        "    model_inputs[\"labels\"] = labels[\"input_ids\"]\n",
        "    return model_inputs\n",
        "\n",
        "tokenized_dataset = dataset.map(preprocess, batched=True)"
      ]
    },
    {
      "cell_type": "markdown",
      "metadata": {
        "id": "44lVkAxXMo_d"
      },
      "source": [
        "3. **Chargement du midèle et configuration de l'entrainement**"
      ]
    },
    {
      "cell_type": "code",
      "execution_count": null,
      "metadata": {
        "collapsed": true,
        "id": "O_TdUb9rNNuq"
      },
      "outputs": [],
      "source": [
        "!pip install --upgrade transformers"
      ]
    },
    {
      "cell_type": "code",
      "execution_count": null,
      "metadata": {
        "id": "vp4alNeVMftE"
      },
      "outputs": [],
      "source": [
        "from transformers import AutoModelForSeq2SeqLM, TrainingArguments, Trainer, DataCollatorForSeq2Seq\n",
        "\n",
        "model = AutoModelForSeq2SeqLM.from_pretrained(model_checkpoint)\n",
        "\n",
        "training_args = TrainingArguments(\n",
        "    output_dir=\"./t5-form-summary\",\n",
        "    # The 'evaluation_strategy' argument has been replaced with 'eval_strategy'.\n",
        "    eval_strategy=\"epoch\",\n",
        "    learning_rate=2e-5,\n",
        "    per_device_train_batch_size=8,\n",
        "    per_device_eval_batch_size=8,\n",
        "    num_train_epochs=8,\n",
        "    weight_decay=0.01,\n",
        "    save_total_limit=2,\n",
        "    logging_dir='./logs',\n",
        ")\n",
        "\n",
        "# Use DataCollatorForSeq2Seq for padding\n",
        "data_collator = DataCollatorForSeq2Seq(tokenizer, model=model)\n",
        "\n",
        "trainer = Trainer(\n",
        "    model=model,\n",
        "    args=training_args,\n",
        "    train_dataset=tokenized_dataset[\"train\"],\n",
        "    eval_dataset=tokenized_dataset[\"test\"],\n",
        "    tokenizer=tokenizer,\n",
        "    data_collator=data_collator,  # Add data_collator\n",
        ")\n",
        "\n",
        "trainer.train()"
      ]
    },
    {
      "cell_type": "markdown",
      "metadata": {
        "id": "bqdOgP6EPXFf"
      },
      "source": [
        "4. **Sauvegarde et usage du model**"
      ]
    },
    {
      "cell_type": "markdown",
      "metadata": {
        "id": "0iHDX0l7Ppkd"
      },
      "source": [
        "*  Sauvegarde\n",
        "\n"
      ]
    },
    {
      "cell_type": "code",
      "execution_count": null,
      "metadata": {
        "id": "D8qrVzdoM0Xi"
      },
      "outputs": [],
      "source": [
        "trainer.save_model(\"/content/isdev_nlp_project/form_summarization/form-summary-model\")"
      ]
    },
    {
      "cell_type": "markdown",
      "metadata": {
        "id": "21ioDDyBPzuJ"
      },
      "source": [
        "*  Pour de futures prédictions"
      ]
    },
    {
      "cell_type": "code",
      "execution_count": null,
      "metadata": {
        "id": "Tf9VE0YiPDU7"
      },
      "outputs": [],
      "source": [
        "from transformers import pipeline\n",
        "\n",
        "summarizer = pipeline(\"summarization\", model=\"/content/drive/MyDrive/form-summary-model\", tokenizer=tokenizer)\n",
        "summary = summarizer(\"How is the service? | What about the ambiance?\")\n",
        "print(summary[0][\"summary_text\"])"
      ]
    },
    {
      "cell_type": "markdown",
      "metadata": {
        "id": "lOeV4iC9qjgW"
      },
      "source": [
        "## **Test du modèle entrainé**"
      ]
    },
    {
      "cell_type": "markdown",
      "metadata": {
        "id": "A20RrIznqzMz"
      },
      "source": [
        "### Chargement du modèle entrainé"
      ]
    },
    {
      "cell_type": "code",
      "execution_count": null,
      "metadata": {
        "id": "liaKd4NyP7RZ"
      },
      "outputs": [],
      "source": [
        "from transformers import AutoTokenizer, AutoModelForSeq2SeqLM, pipeline\n",
        "\n",
        "model_path = \"/content/drive/MyDrive/form-summary-model\"  # This is your local model path\n",
        "\n",
        "# Load the tokenizer and model using the local path directly\n",
        "tokenizer = AutoTokenizer.from_pretrained(model_path, local_files_only=True)\n",
        "model = AutoModelForSeq2SeqLM.from_pretrained(model_path, local_files_only=True)\n",
        "\n",
        "# Create a summarization pipeline\n",
        "summarizer = pipeline(\"summarization\", model=model, tokenizer=tokenizer)"
      ]
    },
    {
      "cell_type": "markdown",
      "metadata": {
        "id": "gRgFnXeItFEi"
      },
      "source": [
        "### Test sur un exemple"
      ]
    },
    {
      "cell_type": "code",
      "execution_count": null,
      "metadata": {
        "id": "YMMjUPQwtJn7"
      },
      "outputs": [],
      "source": [
        "input_questions = \"\"\"I'm going to give you the following list of questions issued from a form:\n",
        "                  How was the hotel room? | Was the breakfast satisfying? | Did you enjoy your stay?\n",
        "                  Analyse them and return the main goal of the form\"\"\"\n",
        "\n",
        "input_prompt = \"\"\"You are an AI trained to understand the purpose of forms by analyzing their questions.\n",
        "Each form consists of a list of questions, separated by the “|” character.\n",
        "Your task is to read the questions and return a concise, high-level summary of the form’s overall goal or purpose in one sentence.\n",
        "Only output the purpose—do not restate the questions.\n",
        "\n",
        "Example Input:\n",
        "Questions: What is your full name? | What is your email address? | What is your phone number? | What product did you purchase? | Please describe the issue.\n",
        "Output: To collect customer information for submitting a product support or complaint request.\n",
        "\n",
        "Now analyze the following form and give the output accordingly:\n",
        "Questions: How was the hotel room? | Was the breakfast satisfying? | Did you enjoy your stay?\n",
        "\n",
        "\n",
        "\"\"\"\n",
        "\n",
        "summary = summarizer(input_prompt, max_length=60, min_length=15, do_sample=False)\n",
        "print(\"📝 Résumé généré :\", summary[0]['summary_text'])"
      ]
    },
    {
      "cell_type": "markdown",
      "metadata": {
        "id": "nBOBzuipFmEc"
      },
      "source": [
        "## **Ignorer la suite**"
      ]
    },
    {
      "cell_type": "code",
      "execution_count": null,
      "metadata": {
        "collapsed": true,
        "id": "gZ9oHPhauNZe"
      },
      "outputs": [],
      "source": [
        "from transformers import pipeline\n",
        "\n",
        "summarizer = pipeline(\"summarization\", model=\"facebook/bart-large-cnn\")\n",
        "\n",
        "text = \"How was the hotel room? | Was the breakfast satisfying? | Did you enjoy your stay?\"\n",
        "\n",
        "summary = summarizer(text, max_length=50, min_length=15, do_sample=False)\n",
        "print(summary[0]['summary_text'])\n"
      ]
    },
    {
      "cell_type": "code",
      "execution_count": null,
      "metadata": {
        "id": "izJYPK-ouOcq"
      },
      "outputs": [],
      "source": [
        "from transformers import pipeline\n",
        "\n",
        "summarizer = pipeline(\"summarization\", model=\"google/pegasus-xsum\")\n",
        "\n",
        "text = \"How was the hotel room? | Was the breakfast satisfying? | Did you enjoy your stay?\"\n",
        "\n",
        "input_prompt = \"\"\"You are an AI trained to understand the purpose of forms by analyzing their questions.\n",
        "Each form consists of a list of questions, separated by the “|” character.\n",
        "Your task is to read the questions and return a concise, high-level summary of the form’s overall goal or purpose in one sentence.\n",
        "Only output the purpose—do not restate the questions.\n",
        "\n",
        "Example Input:\n",
        "Questions: What is your full name? | What is your email address? | What is your phone number? | What product did you purchase? | Please describe the issue.\n",
        "Output: To collect customer information for submitting a product support or complaint request.\n",
        "\n",
        "Now analyze the following form and give the output accordingly:\n",
        "Questions: How was the hotel room? | Was the breakfast satisfying? | Did you enjoy your stay?\n",
        "\n",
        "\n",
        "\"\"\"\n",
        "\n",
        "summary = summarizer(input_prompt, max_length=20, min_length=10, do_sample=False)\n",
        "print(summary[0]['summary_text'])"
      ]
    },
    {
      "cell_type": "code",
      "execution_count": null,
      "metadata": {
        "id": "QgxRvArdvDBg"
      },
      "outputs": [],
      "source": [
        "from transformers import pipeline\n",
        "\n",
        "generator = pipeline(\"text2text-generation\", model=\"google/flan-t5-base\")\n",
        "\n",
        "prompt = \"\"\"You are an AI trained to understand the purpose of forms by analyzing their questions.\n",
        "Each form consists of a list of questions, separated by the “|” character.\n",
        "Your task is to read the questions and return a concise, high-level summary of the form’s overall goal or purpose in one sentence.\n",
        "Only output the purpose—do not restate the questions.\n",
        "\n",
        "Example Input:\n",
        "Questions: What is your full name? | What is your email address? | What is your phone number? | What product did you purchase? | Please describe the issue.\n",
        "Output: To collect customer information for submitting a product support or complaint request.\n",
        "\n",
        "Now analyze the following form and give the output accordingly:\n",
        "Questions: How was the hotel room? | Was the breakfast satisfying? | Did you enjoy your stay?\n",
        "\n",
        "\n",
        "\"\"\"\n",
        "res = generator(prompt, max_length=40)[0]['generated_text']\n",
        "print(res)\n"
      ]
    },
    {
      "cell_type": "code",
      "execution_count": null,
      "metadata": {
        "id": "JSbcgE6-SeUf"
      },
      "outputs": [],
      "source": [
        "# Import the login function\n",
        "from huggingface_hub import login\n",
        "\n",
        "# Log in to the Hugging Face Hub\n",
        "# You will be prompted to enter your Hugging Face token.\n",
        "# You can generate a token from your Hugging Face account settings -> Access Tokens.\n",
        "login()"
      ]
    },
    {
      "cell_type": "code",
      "execution_count": null,
      "metadata": {
        "id": "DGTtzNNtxo0T"
      },
      "outputs": [],
      "source": [
        "from transformers import AutoTokenizer, AutoModelForCausalLM\n",
        "\n",
        "model_name = \"mistralai/Mistral-7B-Instruct-v0.2\"\n",
        "tokenizer = AutoTokenizer.from_pretrained(model_name)\n",
        "model = AutoModelForCausalLM.from_pretrained(model_name)\n",
        "\n",
        "prompt = \"\"\"### Instruction:\n",
        "Given the following questions from a feedback form:\n",
        "- How was the hotel room?\n",
        "- Was the breakfast satisfying?\n",
        "- Did you enjoy your stay?\n",
        "What is the main objective of this form?\n",
        "\n",
        "### Response:\n",
        "\"\"\"\n",
        "\n",
        "inputs = tokenizer(prompt, return_tensors=\"pt\").to(model.device)\n",
        "\n",
        "output = model.generate(\n",
        "    **inputs,\n",
        "    max_new_tokens=60,\n",
        "    temperature=0.7,\n",
        "    top_p=0.9,\n",
        "    do_sample=False\n",
        ")\n",
        "\n",
        "response = tokenizer.decode(output[0], skip_special_tokens=True)\n",
        "print(response)\n"
      ]
    },
    {
      "cell_type": "markdown",
      "metadata": {
        "id": "_xQHeYeG-D0w"
      },
      "source": [
        "## let's do it using Mistral and huggingface"
      ]
    },
    {
      "cell_type": "code",
      "execution_count": null,
      "metadata": {
        "id": "muqtk3Lm-LRK"
      },
      "outputs": [],
      "source": [
        "import pandas as pd\n",
        "import json\n",
        "\n",
        "# Charger ton CSV\n",
        "df = pd.read_csv(\"/content/drive/My Drive/isdev_nlp_project/form_dataset_with_summaries.csv\", encoding='latin1')\n",
        "\n",
        "# Liste des entrées formatées\n",
        "data = []"
      ]
    },
    {
      "cell_type": "code",
      "execution_count": null,
      "metadata": {
        "id": "BBhabU2y_M4Z"
      },
      "outputs": [],
      "source": [
        "df"
      ]
    },
    {
      "cell_type": "code",
      "execution_count": null,
      "metadata": {
        "id": "wZwBxSCV-bKj"
      },
      "outputs": [],
      "source": [
        "for _, row in df.iterrows():\n",
        "    questions = row[\"form_questions\"].strip()\n",
        "    target = str(row[\"summary\"]).strip()\n",
        "\n",
        "    prompt = f\"Given the following questions issued from a form: {questions} What is the main goal of the form?\"\n",
        "\n",
        "    entry = {\n",
        "        \"messages\": [\n",
        "            {\"role\": \"user\", \"content\": prompt},\n",
        "            {\"role\": \"assistant\", \"content\": target}\n",
        "        ]\n",
        "    }\n",
        "    data.append(entry)"
      ]
    },
    {
      "cell_type": "code",
      "execution_count": null,
      "metadata": {
        "id": "R1XdEa1E_G-V"
      },
      "outputs": [],
      "source": [
        "# Sauvegarder en JSONL\n",
        "with open(\"train.jsonl\", \"w\", encoding=\"utf-8\") as f:\n",
        "    for item in data:\n",
        "        f.write(json.dumps(item, ensure_ascii=False) + \"\\n\")"
      ]
    },
    {
      "cell_type": "code",
      "execution_count": null,
      "metadata": {
        "id": "bdWxYd6R_9ND"
      },
      "outputs": [],
      "source": [
        "from datasets import load_dataset, Dataset\n",
        "\n",
        "dataset = Dataset.from_list(data)"
      ]
    },
    {
      "cell_type": "code",
      "execution_count": null,
      "metadata": {
        "id": "GNb4-fPtABQM"
      },
      "outputs": [],
      "source": [
        "# Step 3: (optional) Formatage en texte pour causal LM\n",
        "def format_for_causal_lm(example):\n",
        "    text = \"\"\n",
        "    for m in example[\"messages\"]:\n",
        "        text += f\"{m['role'].capitalize()}: {m['content']}\\n\"\n",
        "    return {\"text\": text}\n",
        "\n",
        "tokenized_dataset = dataset.map(format_for_causal_lm)"
      ]
    },
    {
      "cell_type": "code",
      "execution_count": null,
      "metadata": {
        "id": "AFcY-Eq0NLTN"
      },
      "outputs": [],
      "source": [
        "# Import the login function\n",
        "from huggingface_hub import login\n",
        "from transformers import AutoTokenizer, AutoModelForCausalLM\n",
        "from peft import get_peft_model, LoraConfig, TaskType\n",
        "# Import GatedRepoError to catch the specific exception\n",
        "from huggingface_hub.utils import GatedRepoError\n",
        "\n",
        "\n",
        "# Log in to the Hugging Face Hub\n",
        "# You will be prompted to enter your Hugging Face token.\n",
        "# You can generate a token from your Hugging Face account settings -> Access Tokens.\n",
        "# Uncomment the line below and replace \"YOUR_HF_TOKEN\" with your actual token\n",
        "# if you prefer to hardcode it (use with caution, especially in shared notebooks):\n",
        "# login(token=\"YOUR_HF_TOKEN\")\n",
        "\n",
        "# If you prefer to be prompted securely (recommended in interactive sessions like Colab):\n",
        "login()"
      ]
    },
    {
      "cell_type": "code",
      "execution_count": null,
      "metadata": {
        "id": "o3C2d3-1C1TT"
      },
      "outputs": [],
      "source": [
        "# Install bitsandbytes\n",
        "# This should ideally be done in a separate cell or before loading quantized models\n",
        "!pip install -q bitsandbytes\n",
        "\n",
        "model_id = \"mistralai/Mistral-7B-Instruct-v0.2\"\n",
        "\n",
        "# Try loading the tokenizer first. If this fails, the authentication or access is the issue.\n",
        "try:\n",
        "    tokenizer = AutoTokenizer.from_pretrained(model_id)\n",
        "    # Ensure tokenizer has a pad_token, common for causal LMs during training/padding\n",
        "    if tokenizer.pad_token is None:\n",
        "         tokenizer.pad_token = tokenizer.eos_token # Use eos_token if pad_token is not defined\n",
        "except GatedRepoError as e: # GatedRepoError is now defined and can be caught\n",
        "    print(f\"Error loading tokenizer: {e}\")\n",
        "    print(\"Please ensure you have accepted the terms for the model on Hugging Face and are logged in.\")\n",
        "    # You might want to stop execution or handle this error appropriately\n",
        "    raise # Re-raise the exception to halt execution if necessary\n",
        "except Exception as e:\n",
        "     print(f\"An unexpected error occurred while loading the tokenizer: {e}\")\n",
        "     raise # Re-raise any other unexpected exceptions\n",
        "\n",
        "# If tokenizer loading is successful, proceed with model loading\n",
        "try:\n",
        "    model = AutoModelForCausalLM.from_pretrained(\n",
        "        model_id,\n",
        "        load_in_4bit=True,\n",
        "        device_map=\"auto\"\n",
        "    )\n",
        "except GatedRepoError as e: # GatedRepoError is now defined and can be caught\n",
        "    print(f\"Error loading model: {e}\")\n",
        "    print(\"Please ensure you have accepted the terms for the model on Hugging Face and are logged in.\")\n",
        "    # You might want to stop execution or handle this error appropriately\n",
        "    raise # Re-raise the exception to halt execution if necessary\n",
        "except Exception as e:\n",
        "     print(f\"An unexpected error occurred while loading the model: {e}\")\n",
        "     raise # Re-raise any other unexpected exceptions\n",
        "\n",
        "\n",
        "# Now you can proceed with PEFT setup\n",
        "lora_config = LoraConfig(\n",
        "    r=8,\n",
        "    lora_alpha=16,\n",
        "    target_modules=[\"q_proj\", \"v_proj\"],\n",
        "    lora_dropout=0.1,\n",
        "    bias=\"none\",\n",
        "    task_type=TaskType.CAUSAL_LM\n",
        ")\n",
        "\n",
        "model = get_peft_model(model, lora_config)\n",
        "\n",
        "print(\"Tokenizer and Model loaded successfully.\")"
      ]
    },
    {
      "cell_type": "code",
      "execution_count": null,
      "metadata": {
        "id": "FKXoTmNqCIHZ"
      },
      "outputs": [],
      "source": [
        "from peft import LoraConfig, get_peft_model\n",
        "\n",
        "lora_config = LoraConfig(\n",
        "    r=8,\n",
        "    lora_alpha=16,\n",
        "    target_modules=[\"q_proj\", \"v_proj\"],\n",
        "    lora_dropout=0.1,\n",
        "    bias=\"none\",\n",
        "    task_type=TaskType.CAUSAL_LM\n",
        ")\n",
        "\n",
        "model = get_peft_model(model, lora_config)"
      ]
    },
    {
      "cell_type": "code",
      "execution_count": null,
      "metadata": {
        "id": "PSsM191TRT2O"
      },
      "outputs": [],
      "source": [
        "{\"messages\": [{\"role\": \"user\", \"content\": \"How was the room? ...\"}, {\"role\": \"assistant\", \"content\": \"To evaluate the hotel experience.\"}]}"
      ]
    },
    {
      "cell_type": "code",
      "execution_count": null,
      "metadata": {
        "id": "52MQfVIbRdBf"
      },
      "outputs": [],
      "source": [
        "from datasets import load_dataset, Dataset\n",
        "from transformers import AutoTokenizer # Import AutoTokenizer if not already imported\n",
        "\n",
        "# Ensure you have your tokenizer loaded\n",
        "# model_id = \"mistralai/Mistral-7B-Instruct-v0.2\"\n",
        "# tokenizer = AutoTokenizer.from_pretrained(model_id)\n",
        "# if tokenizer.pad_token is None:\n",
        "#      tokenizer.pad_token = tokenizer.eos_token # Already handled later, but good practice\n",
        "\n",
        "# Load the dataset directly from the local JSONL file\n",
        "# Using load_dataset with the 'json' builder and data_files pointing to the local file is correct,\n",
        "# but sometimes specifying the full path or ensuring the current working directory is correct helps.\n",
        "# Let's re-try the same command as it should work for local files,\n",
        "# ensuring the file 'train.jsonl' exists in the current working directory.\n",
        "\n",
        "try:\n",
        "    dataset = load_dataset(\"json\", data_files=\"train.jsonl\")\n",
        "except NotImplementedError as e:\n",
        "    print(f\"Caught expected NotImplementedError: {e}\")\n",
        "    print(\"This error can sometimes occur if the library misinterprets the local file path.\")\n",
        "    print(\"Ensure 'train.jsonl' is in the current directory or use the full path.\")\n",
        "    # If the error persists, ensure the datasets library is up-to-date\n",
        "    # and check for any environment-specific configurations that might be affecting file system access.\n",
        "    # As a fallback, loading into pandas first and then converting to a Dataset might work\n",
        "    import pandas as pd\n",
        "    df_loaded = pd.read_json(\"train.jsonl\", lines=True)\n",
        "    dataset = Dataset.from_pandas(df_loaded)\n",
        "\n",
        "# Access the dataset (it's likely a DatasetDict with a single key 'train' if loaded from file like this,\n",
        "# but if it's a Dataset from_pandas, it's a single Dataset)\n",
        "# Let's assume it's a Dataset object or we want to work with the main part if it's a DatasetDict\n",
        "if isinstance(dataset, dict):\n",
        "    # If load_dataset returned a DatasetDict (which might happen depending on structure),\n",
        "    # we take the first split (usually 'train' if it exists, or the only one)\n",
        "    if 'train' in dataset:\n",
        "        dataset_to_split = dataset['train']\n",
        "    else:\n",
        "        # If no explicit 'train' split, just take the first available split\n",
        "        dataset_to_split = next(iter(dataset.values()))\n",
        "else:\n",
        "    # If it's already a single Dataset\n",
        "    dataset_to_split = dataset\n",
        "\n",
        "# Split the dataset into training and testing sets\n",
        "# Adjust test_size as needed (e.g., 0.1 for 10% test set)\n",
        "train_test_split = dataset_to_split.train_test_split(test_size=0.1)\n",
        "\n",
        "# Access the splits\n",
        "train_dataset_split = train_test_split['train']\n",
        "test_dataset_split = train_test_split['test']\n",
        "\n",
        "# Your subsequent code for mapping can remain the same\n",
        "def format_conversation(example):\n",
        "    prompt = \"\"\n",
        "    for m in example[\"messages\"]:\n",
        "        # Use the instruction format for Mistral-Instruct models\n",
        "        if m[\"role\"] == \"user\":\n",
        "            prompt += f\"[INST] {m['content']} [/INST]\\n\"\n",
        "        elif m[\"role\"] == \"assistant\":\n",
        "             prompt += f\"{m['content']}\\n\" # Assistant response does not need the tags for training next-token prediction\n",
        "\n",
        "    # For training a causal LM to generate the assistant response, we need the prompt part\n",
        "    # and the target part. The data collator will handle the shifting for language modeling.\n",
        "    # We'll keep the 'text' column for simplicity and let the tokenizer handle it.\n",
        "    return {\"text\": prompt}\n",
        "\n",
        "# Apply formatting to the training and testing splits\n",
        "formatted_train_dataset = train_dataset_split.map(format_conversation)\n",
        "formatted_test_dataset = test_dataset_split.map(format_conversation)\n",
        "\n",
        "# NEW STEP: Tokenize the formatted text\n",
        "def tokenize_function(examples):\n",
        "    # Tokenize the 'text' column\n",
        "    # Ensure max_length is appropriate for your data and model\n",
        "    # Add padding and truncation\n",
        "    return tokenizer(examples[\"text\"], padding=\"max_length\", truncation=True, max_length=512) # Adjust max_length as needed\n",
        "\n",
        "# Apply tokenization\n",
        "tokenized_train_dataset = formatted_train_dataset.map(tokenize_function, batched=True)\n",
        "tokenized_test_dataset = formatted_test_dataset.map(tokenize_function, batched=True)\n",
        "\n",
        "# Remove the original 'messages' and 'text' columns as they are no longer needed by the model\n",
        "# The tokenizer adds 'input_ids', 'attention_mask', and potentially 'token_type_ids'\n",
        "# and the DataCollatorForLanguageModeling expects 'input_ids' and 'labels' (which it creates from input_ids)\n",
        "tokenized_train_dataset = tokenized_train_dataset.remove_columns([\"messages\", \"text\"])\n",
        "tokenized_test_dataset = tokenized_test_dataset.remove_columns([\"messages\", \"text\"])\n",
        "\n",
        "\n",
        "print(\"Dataset loaded, split, formatted, and tokenized successfully.\")\n",
        "print(\"Tokenized Train dataset:\", tokenized_train_dataset)\n",
        "print(\"Tokenized Test dataset:\", tokenized_test_dataset)"
      ]
    },
    {
      "cell_type": "code",
      "execution_count": null,
      "metadata": {
        "id": "aBAFOz_SRhuw"
      },
      "outputs": [],
      "source": [
        "# Entrainement avec Trainer\n",
        "\n",
        "from transformers import TrainingArguments, Trainer, DataCollatorForLanguageModeling\n",
        "\n",
        "training_args = TrainingArguments(\n",
        "    output_dir=\"./mistral-form-tuned\",\n",
        "    per_device_train_batch_size=4,\n",
        "    gradient_accumulation_steps=4,\n",
        "    logging_steps=10,\n",
        "    num_train_epochs=3,\n",
        "    save_strategy=\"epoch\",\n",
        "    fp16=True,\n",
        "    lr_scheduler_type=\"cosine\",\n",
        "    learning_rate=2e-4,\n",
        "    # Add evaluation strategy to evaluate on the test set\n",
        "    eval_strategy=\"epoch\",\n",
        "    # Set remove_unused_columns=False to prevent the Trainer from removing columns\n",
        "    # that the model might not explicitly take but the data collator needs (like 'input_ids'\n",
        "    # from the tokenizer, which DataCollatorForLanguageModeling uses to create 'labels').\n",
        "    # However, since we explicitly removed 'messages' and 'text' and kept 'input_ids' etc.,\n",
        "    # this might not be strictly necessary, but it's a good safety measure if the collator\n",
        "    # relies on specific generated columns not in the model signature.\n",
        "    remove_unused_columns=False # Add this argument\n",
        ")\n",
        "\n",
        "# Ensure the tokenizer has a pad_token. T5 tokenizers usually have one, but Mistral may not by default.\n",
        "# For causal LMs, it's common to set pad_token to eos_token or add a specific pad_token.\n",
        "if tokenizer.pad_token is None:\n",
        "     tokenizer.pad_token = tokenizer.eos_token\n",
        "     # Alternatively, add a new pad token if eos_token is not suitable or you prefer a dedicated one\n",
        "     # tokenizer.add_special_tokens({'pad_token': '[PAD]'})\n",
        "     # model.resize_token_embeddings(len(tokenizer)) # Resize embeddings if adding new tokens\n",
        "\n",
        "# The DataCollatorForLanguageModeling expects 'input_ids' and generates 'labels' from it.\n",
        "# It also handles padding.\n",
        "data_collator = DataCollatorForLanguageModeling(tokenizer, mlm=False)\n",
        "\n",
        "trainer = Trainer(\n",
        "    model=model,\n",
        "    args=training_args,\n",
        "    # Use the split and tokenized datasets\n",
        "    train_dataset=tokenized_train_dataset,\n",
        "    eval_dataset=tokenized_test_dataset, # Add the evaluation dataset\n",
        "    tokenizer=tokenizer, # Pass the tokenizer to the Trainer\n",
        "    data_collator=data_collator, # Add data_collator\n",
        ")\n",
        "\n",
        "trainer.train()"
      ]
    },
    {
      "cell_type": "code",
      "execution_count": null,
      "metadata": {
        "id": "PyfiB6pZTuPY"
      },
      "outputs": [],
      "source": []
    }
  ],
  "metadata": {
    "colab": {
      "collapsed_sections": [
        "nBOBzuipFmEc"
      ],
      "provenance": []
    },
    "kernelspec": {
      "display_name": "Python 3",
      "name": "python3"
    },
    "language_info": {
      "name": "python"
    },
    "widgets": {
      "application/vnd.jupyter.widget-state+json": {
        "00aaedc7bfbe41569c20c840f535a714": {
          "model_module": "@jupyter-widgets/base",
          "model_module_version": "1.2.0",
          "model_name": "LayoutModel",
          "state": {
            "_model_module": "@jupyter-widgets/base",
            "_model_module_version": "1.2.0",
            "_model_name": "LayoutModel",
            "_view_count": null,
            "_view_module": "@jupyter-widgets/base",
            "_view_module_version": "1.2.0",
            "_view_name": "LayoutView",
            "align_content": null,
            "align_items": null,
            "align_self": null,
            "border": null,
            "bottom": null,
            "display": null,
            "flex": null,
            "flex_flow": null,
            "grid_area": null,
            "grid_auto_columns": null,
            "grid_auto_flow": null,
            "grid_auto_rows": null,
            "grid_column": null,
            "grid_gap": null,
            "grid_row": null,
            "grid_template_areas": null,
            "grid_template_columns": null,
            "grid_template_rows": null,
            "height": null,
            "justify_content": null,
            "justify_items": null,
            "left": null,
            "margin": null,
            "max_height": null,
            "max_width": null,
            "min_height": null,
            "min_width": null,
            "object_fit": null,
            "object_position": null,
            "order": null,
            "overflow": null,
            "overflow_x": null,
            "overflow_y": null,
            "padding": null,
            "right": null,
            "top": null,
            "visibility": null,
            "width": null
          }
        },
        "017443561cc449208c45dc923441ef6a": {
          "model_module": "@jupyter-widgets/base",
          "model_module_version": "1.2.0",
          "model_name": "LayoutModel",
          "state": {
            "_model_module": "@jupyter-widgets/base",
            "_model_module_version": "1.2.0",
            "_model_name": "LayoutModel",
            "_view_count": null,
            "_view_module": "@jupyter-widgets/base",
            "_view_module_version": "1.2.0",
            "_view_name": "LayoutView",
            "align_content": null,
            "align_items": null,
            "align_self": null,
            "border": null,
            "bottom": null,
            "display": null,
            "flex": null,
            "flex_flow": null,
            "grid_area": null,
            "grid_auto_columns": null,
            "grid_auto_flow": null,
            "grid_auto_rows": null,
            "grid_column": null,
            "grid_gap": null,
            "grid_row": null,
            "grid_template_areas": null,
            "grid_template_columns": null,
            "grid_template_rows": null,
            "height": null,
            "justify_content": null,
            "justify_items": null,
            "left": null,
            "margin": null,
            "max_height": null,
            "max_width": null,
            "min_height": null,
            "min_width": null,
            "object_fit": null,
            "object_position": null,
            "order": null,
            "overflow": null,
            "overflow_x": null,
            "overflow_y": null,
            "padding": null,
            "right": null,
            "top": null,
            "visibility": null,
            "width": null
          }
        },
        "05440668b2864e09a2000f0ccc48af5b": {
          "model_module": "@jupyter-widgets/controls",
          "model_module_version": "1.5.0",
          "model_name": "DescriptionStyleModel",
          "state": {
            "_model_module": "@jupyter-widgets/controls",
            "_model_module_version": "1.5.0",
            "_model_name": "DescriptionStyleModel",
            "_view_count": null,
            "_view_module": "@jupyter-widgets/base",
            "_view_module_version": "1.2.0",
            "_view_name": "StyleView",
            "description_width": ""
          }
        },
        "0727ce662bae45a799a146cedb18e29a": {
          "model_module": "@jupyter-widgets/base",
          "model_module_version": "1.2.0",
          "model_name": "LayoutModel",
          "state": {
            "_model_module": "@jupyter-widgets/base",
            "_model_module_version": "1.2.0",
            "_model_name": "LayoutModel",
            "_view_count": null,
            "_view_module": "@jupyter-widgets/base",
            "_view_module_version": "1.2.0",
            "_view_name": "LayoutView",
            "align_content": null,
            "align_items": null,
            "align_self": null,
            "border": null,
            "bottom": null,
            "display": null,
            "flex": null,
            "flex_flow": null,
            "grid_area": null,
            "grid_auto_columns": null,
            "grid_auto_flow": null,
            "grid_auto_rows": null,
            "grid_column": null,
            "grid_gap": null,
            "grid_row": null,
            "grid_template_areas": null,
            "grid_template_columns": null,
            "grid_template_rows": null,
            "height": null,
            "justify_content": null,
            "justify_items": null,
            "left": null,
            "margin": null,
            "max_height": null,
            "max_width": null,
            "min_height": null,
            "min_width": null,
            "object_fit": null,
            "object_position": null,
            "order": null,
            "overflow": null,
            "overflow_x": null,
            "overflow_y": null,
            "padding": null,
            "right": null,
            "top": null,
            "visibility": null,
            "width": null
          }
        },
        "07740a71aa454422ace5a6ec2314910a": {
          "model_module": "@jupyter-widgets/controls",
          "model_module_version": "1.5.0",
          "model_name": "DescriptionStyleModel",
          "state": {
            "_model_module": "@jupyter-widgets/controls",
            "_model_module_version": "1.5.0",
            "_model_name": "DescriptionStyleModel",
            "_view_count": null,
            "_view_module": "@jupyter-widgets/base",
            "_view_module_version": "1.2.0",
            "_view_name": "StyleView",
            "description_width": ""
          }
        },
        "07a19f0d241b49309f8c677848b45a6a": {
          "model_module": "@jupyter-widgets/controls",
          "model_module_version": "1.5.0",
          "model_name": "DescriptionStyleModel",
          "state": {
            "_model_module": "@jupyter-widgets/controls",
            "_model_module_version": "1.5.0",
            "_model_name": "DescriptionStyleModel",
            "_view_count": null,
            "_view_module": "@jupyter-widgets/base",
            "_view_module_version": "1.2.0",
            "_view_name": "StyleView",
            "description_width": ""
          }
        },
        "0e83758055674e1d9957d72cb1c76ffa": {
          "model_module": "@jupyter-widgets/controls",
          "model_module_version": "1.5.0",
          "model_name": "HBoxModel",
          "state": {
            "_dom_classes": [],
            "_model_module": "@jupyter-widgets/controls",
            "_model_module_version": "1.5.0",
            "_model_name": "HBoxModel",
            "_view_count": null,
            "_view_module": "@jupyter-widgets/controls",
            "_view_module_version": "1.5.0",
            "_view_name": "HBoxView",
            "box_style": "",
            "children": [
              "IPY_MODEL_3b8c0cd8837747159cbea4e8338b51c1",
              "IPY_MODEL_695398cd95354851b473d95b8046b56c",
              "IPY_MODEL_86965b1edd884d29a38d4cfcc6fbecaf"
            ],
            "layout": "IPY_MODEL_90ffe0c90890462bb108ed90009395ac"
          }
        },
        "11d91bcd336f4e5cb60fc171a60bbd69": {
          "model_module": "@jupyter-widgets/base",
          "model_module_version": "1.2.0",
          "model_name": "LayoutModel",
          "state": {
            "_model_module": "@jupyter-widgets/base",
            "_model_module_version": "1.2.0",
            "_model_name": "LayoutModel",
            "_view_count": null,
            "_view_module": "@jupyter-widgets/base",
            "_view_module_version": "1.2.0",
            "_view_name": "LayoutView",
            "align_content": null,
            "align_items": null,
            "align_self": null,
            "border": null,
            "bottom": null,
            "display": null,
            "flex": null,
            "flex_flow": null,
            "grid_area": null,
            "grid_auto_columns": null,
            "grid_auto_flow": null,
            "grid_auto_rows": null,
            "grid_column": null,
            "grid_gap": null,
            "grid_row": null,
            "grid_template_areas": null,
            "grid_template_columns": null,
            "grid_template_rows": null,
            "height": null,
            "justify_content": null,
            "justify_items": null,
            "left": null,
            "margin": null,
            "max_height": null,
            "max_width": null,
            "min_height": null,
            "min_width": null,
            "object_fit": null,
            "object_position": null,
            "order": null,
            "overflow": null,
            "overflow_x": null,
            "overflow_y": null,
            "padding": null,
            "right": null,
            "top": null,
            "visibility": null,
            "width": null
          }
        },
        "1a34a1aa7c204ff9ae93e3c4959a36f9": {
          "model_module": "@jupyter-widgets/controls",
          "model_module_version": "1.5.0",
          "model_name": "DescriptionStyleModel",
          "state": {
            "_model_module": "@jupyter-widgets/controls",
            "_model_module_version": "1.5.0",
            "_model_name": "DescriptionStyleModel",
            "_view_count": null,
            "_view_module": "@jupyter-widgets/base",
            "_view_module_version": "1.2.0",
            "_view_name": "StyleView",
            "description_width": ""
          }
        },
        "1bc84aca3f264e54a459852971317577": {
          "model_module": "@jupyter-widgets/base",
          "model_module_version": "1.2.0",
          "model_name": "LayoutModel",
          "state": {
            "_model_module": "@jupyter-widgets/base",
            "_model_module_version": "1.2.0",
            "_model_name": "LayoutModel",
            "_view_count": null,
            "_view_module": "@jupyter-widgets/base",
            "_view_module_version": "1.2.0",
            "_view_name": "LayoutView",
            "align_content": null,
            "align_items": null,
            "align_self": null,
            "border": null,
            "bottom": null,
            "display": null,
            "flex": null,
            "flex_flow": null,
            "grid_area": null,
            "grid_auto_columns": null,
            "grid_auto_flow": null,
            "grid_auto_rows": null,
            "grid_column": null,
            "grid_gap": null,
            "grid_row": null,
            "grid_template_areas": null,
            "grid_template_columns": null,
            "grid_template_rows": null,
            "height": null,
            "justify_content": null,
            "justify_items": null,
            "left": null,
            "margin": null,
            "max_height": null,
            "max_width": null,
            "min_height": null,
            "min_width": null,
            "object_fit": null,
            "object_position": null,
            "order": null,
            "overflow": null,
            "overflow_x": null,
            "overflow_y": null,
            "padding": null,
            "right": null,
            "top": null,
            "visibility": null,
            "width": null
          }
        },
        "2691869b18e14b9e9d9682ca1eb4766d": {
          "model_module": "@jupyter-widgets/controls",
          "model_module_version": "1.5.0",
          "model_name": "ProgressStyleModel",
          "state": {
            "_model_module": "@jupyter-widgets/controls",
            "_model_module_version": "1.5.0",
            "_model_name": "ProgressStyleModel",
            "_view_count": null,
            "_view_module": "@jupyter-widgets/base",
            "_view_module_version": "1.2.0",
            "_view_name": "StyleView",
            "bar_color": null,
            "description_width": ""
          }
        },
        "2c36e43587434768afa66141013c0427": {
          "model_module": "@jupyter-widgets/controls",
          "model_module_version": "1.5.0",
          "model_name": "HTMLModel",
          "state": {
            "_dom_classes": [],
            "_model_module": "@jupyter-widgets/controls",
            "_model_module_version": "1.5.0",
            "_model_name": "HTMLModel",
            "_view_count": null,
            "_view_module": "@jupyter-widgets/controls",
            "_view_module_version": "1.5.0",
            "_view_name": "HTMLView",
            "description": "",
            "description_tooltip": null,
            "layout": "IPY_MODEL_8c520bd437634856af251a8d853df5fc",
            "placeholder": "​",
            "style": "IPY_MODEL_dc05f00821554f0b9549e7536d017f0f",
            "value": "tokenizer.json: 100%"
          }
        },
        "331f7c44f3664e9b90cee9a0d71c588a": {
          "model_module": "@jupyter-widgets/controls",
          "model_module_version": "1.5.0",
          "model_name": "HTMLModel",
          "state": {
            "_dom_classes": [],
            "_model_module": "@jupyter-widgets/controls",
            "_model_module_version": "1.5.0",
            "_model_name": "HTMLModel",
            "_view_count": null,
            "_view_module": "@jupyter-widgets/controls",
            "_view_module_version": "1.5.0",
            "_view_name": "HTMLView",
            "description": "",
            "description_tooltip": null,
            "layout": "IPY_MODEL_017443561cc449208c45dc923441ef6a",
            "placeholder": "​",
            "style": "IPY_MODEL_05440668b2864e09a2000f0ccc48af5b",
            "value": "spiece.model: 100%"
          }
        },
        "340d8ea0206048019813dfd2b09d4ed9": {
          "model_module": "@jupyter-widgets/controls",
          "model_module_version": "1.5.0",
          "model_name": "FloatProgressModel",
          "state": {
            "_dom_classes": [],
            "_model_module": "@jupyter-widgets/controls",
            "_model_module_version": "1.5.0",
            "_model_name": "FloatProgressModel",
            "_view_count": null,
            "_view_module": "@jupyter-widgets/controls",
            "_view_module_version": "1.5.0",
            "_view_name": "ProgressView",
            "bar_style": "success",
            "description": "",
            "description_tooltip": null,
            "layout": "IPY_MODEL_3c8085a4227247b5893bb2420157d80d",
            "max": 1389353,
            "min": 0,
            "orientation": "horizontal",
            "style": "IPY_MODEL_920a49c5a24f4214aa0b50a7c585fc98",
            "value": 1389353
          }
        },
        "38cbaf7135734f8f965ee714d5d06bb4": {
          "model_module": "@jupyter-widgets/controls",
          "model_module_version": "1.5.0",
          "model_name": "DescriptionStyleModel",
          "state": {
            "_model_module": "@jupyter-widgets/controls",
            "_model_module_version": "1.5.0",
            "_model_name": "DescriptionStyleModel",
            "_view_count": null,
            "_view_module": "@jupyter-widgets/base",
            "_view_module_version": "1.2.0",
            "_view_name": "StyleView",
            "description_width": ""
          }
        },
        "3b8c0cd8837747159cbea4e8338b51c1": {
          "model_module": "@jupyter-widgets/controls",
          "model_module_version": "1.5.0",
          "model_name": "HTMLModel",
          "state": {
            "_dom_classes": [],
            "_model_module": "@jupyter-widgets/controls",
            "_model_module_version": "1.5.0",
            "_model_name": "HTMLModel",
            "_view_count": null,
            "_view_module": "@jupyter-widgets/controls",
            "_view_module_version": "1.5.0",
            "_view_name": "HTMLView",
            "description": "",
            "description_tooltip": null,
            "layout": "IPY_MODEL_43c5c797ff3b48cca7e04f32ac99e390",
            "placeholder": "​",
            "style": "IPY_MODEL_1a34a1aa7c204ff9ae93e3c4959a36f9",
            "value": "config.json: 100%"
          }
        },
        "3c165cbbdcc440f6b414aa29a9e1f5bc": {
          "model_module": "@jupyter-widgets/controls",
          "model_module_version": "1.5.0",
          "model_name": "ProgressStyleModel",
          "state": {
            "_model_module": "@jupyter-widgets/controls",
            "_model_module_version": "1.5.0",
            "_model_name": "ProgressStyleModel",
            "_view_count": null,
            "_view_module": "@jupyter-widgets/base",
            "_view_module_version": "1.2.0",
            "_view_name": "StyleView",
            "bar_color": null,
            "description_width": ""
          }
        },
        "3c8085a4227247b5893bb2420157d80d": {
          "model_module": "@jupyter-widgets/base",
          "model_module_version": "1.2.0",
          "model_name": "LayoutModel",
          "state": {
            "_model_module": "@jupyter-widgets/base",
            "_model_module_version": "1.2.0",
            "_model_name": "LayoutModel",
            "_view_count": null,
            "_view_module": "@jupyter-widgets/base",
            "_view_module_version": "1.2.0",
            "_view_name": "LayoutView",
            "align_content": null,
            "align_items": null,
            "align_self": null,
            "border": null,
            "bottom": null,
            "display": null,
            "flex": null,
            "flex_flow": null,
            "grid_area": null,
            "grid_auto_columns": null,
            "grid_auto_flow": null,
            "grid_auto_rows": null,
            "grid_column": null,
            "grid_gap": null,
            "grid_row": null,
            "grid_template_areas": null,
            "grid_template_columns": null,
            "grid_template_rows": null,
            "height": null,
            "justify_content": null,
            "justify_items": null,
            "left": null,
            "margin": null,
            "max_height": null,
            "max_width": null,
            "min_height": null,
            "min_width": null,
            "object_fit": null,
            "object_position": null,
            "order": null,
            "overflow": null,
            "overflow_x": null,
            "overflow_y": null,
            "padding": null,
            "right": null,
            "top": null,
            "visibility": null,
            "width": null
          }
        },
        "3daa3d02a371464f8524c131ec2876f5": {
          "model_module": "@jupyter-widgets/base",
          "model_module_version": "1.2.0",
          "model_name": "LayoutModel",
          "state": {
            "_model_module": "@jupyter-widgets/base",
            "_model_module_version": "1.2.0",
            "_model_name": "LayoutModel",
            "_view_count": null,
            "_view_module": "@jupyter-widgets/base",
            "_view_module_version": "1.2.0",
            "_view_name": "LayoutView",
            "align_content": null,
            "align_items": null,
            "align_self": null,
            "border": null,
            "bottom": null,
            "display": null,
            "flex": null,
            "flex_flow": null,
            "grid_area": null,
            "grid_auto_columns": null,
            "grid_auto_flow": null,
            "grid_auto_rows": null,
            "grid_column": null,
            "grid_gap": null,
            "grid_row": null,
            "grid_template_areas": null,
            "grid_template_columns": null,
            "grid_template_rows": null,
            "height": null,
            "justify_content": null,
            "justify_items": null,
            "left": null,
            "margin": null,
            "max_height": null,
            "max_width": null,
            "min_height": null,
            "min_width": null,
            "object_fit": null,
            "object_position": null,
            "order": null,
            "overflow": null,
            "overflow_x": null,
            "overflow_y": null,
            "padding": null,
            "right": null,
            "top": null,
            "visibility": null,
            "width": null
          }
        },
        "3dd58577d0c84790a7f8fd6a0e42c712": {
          "model_module": "@jupyter-widgets/base",
          "model_module_version": "1.2.0",
          "model_name": "LayoutModel",
          "state": {
            "_model_module": "@jupyter-widgets/base",
            "_model_module_version": "1.2.0",
            "_model_name": "LayoutModel",
            "_view_count": null,
            "_view_module": "@jupyter-widgets/base",
            "_view_module_version": "1.2.0",
            "_view_name": "LayoutView",
            "align_content": null,
            "align_items": null,
            "align_self": null,
            "border": null,
            "bottom": null,
            "display": null,
            "flex": null,
            "flex_flow": null,
            "grid_area": null,
            "grid_auto_columns": null,
            "grid_auto_flow": null,
            "grid_auto_rows": null,
            "grid_column": null,
            "grid_gap": null,
            "grid_row": null,
            "grid_template_areas": null,
            "grid_template_columns": null,
            "grid_template_rows": null,
            "height": null,
            "justify_content": null,
            "justify_items": null,
            "left": null,
            "margin": null,
            "max_height": null,
            "max_width": null,
            "min_height": null,
            "min_width": null,
            "object_fit": null,
            "object_position": null,
            "order": null,
            "overflow": null,
            "overflow_x": null,
            "overflow_y": null,
            "padding": null,
            "right": null,
            "top": null,
            "visibility": null,
            "width": null
          }
        },
        "3e37b4ef65d448eaa08216dae7f2131e": {
          "model_module": "@jupyter-widgets/controls",
          "model_module_version": "1.5.0",
          "model_name": "HTMLModel",
          "state": {
            "_dom_classes": [],
            "_model_module": "@jupyter-widgets/controls",
            "_model_module_version": "1.5.0",
            "_model_name": "HTMLModel",
            "_view_count": null,
            "_view_module": "@jupyter-widgets/controls",
            "_view_module_version": "1.5.0",
            "_view_name": "HTMLView",
            "description": "",
            "description_tooltip": null,
            "layout": "IPY_MODEL_bd11092b233945b4aae4403bcaf2b89d",
            "placeholder": "​",
            "style": "IPY_MODEL_7616412c718b4eb58ef35eef5da71461",
            "value": " 792k/792k [00:00&lt;00:00, 4.11MB/s]"
          }
        },
        "419f398b67b84c5a88bae6e27fa4ae32": {
          "model_module": "@jupyter-widgets/controls",
          "model_module_version": "1.5.0",
          "model_name": "FloatProgressModel",
          "state": {
            "_dom_classes": [],
            "_model_module": "@jupyter-widgets/controls",
            "_model_module_version": "1.5.0",
            "_model_name": "FloatProgressModel",
            "_view_count": null,
            "_view_module": "@jupyter-widgets/controls",
            "_view_module_version": "1.5.0",
            "_view_name": "ProgressView",
            "bar_style": "success",
            "description": "",
            "description_tooltip": null,
            "layout": "IPY_MODEL_1bc84aca3f264e54a459852971317577",
            "max": 791656,
            "min": 0,
            "orientation": "horizontal",
            "style": "IPY_MODEL_e86e364d62bd4f1a9d4ead3036827b3d",
            "value": 791656
          }
        },
        "43c5c797ff3b48cca7e04f32ac99e390": {
          "model_module": "@jupyter-widgets/base",
          "model_module_version": "1.2.0",
          "model_name": "LayoutModel",
          "state": {
            "_model_module": "@jupyter-widgets/base",
            "_model_module_version": "1.2.0",
            "_model_name": "LayoutModel",
            "_view_count": null,
            "_view_module": "@jupyter-widgets/base",
            "_view_module_version": "1.2.0",
            "_view_name": "LayoutView",
            "align_content": null,
            "align_items": null,
            "align_self": null,
            "border": null,
            "bottom": null,
            "display": null,
            "flex": null,
            "flex_flow": null,
            "grid_area": null,
            "grid_auto_columns": null,
            "grid_auto_flow": null,
            "grid_auto_rows": null,
            "grid_column": null,
            "grid_gap": null,
            "grid_row": null,
            "grid_template_areas": null,
            "grid_template_columns": null,
            "grid_template_rows": null,
            "height": null,
            "justify_content": null,
            "justify_items": null,
            "left": null,
            "margin": null,
            "max_height": null,
            "max_width": null,
            "min_height": null,
            "min_width": null,
            "object_fit": null,
            "object_position": null,
            "order": null,
            "overflow": null,
            "overflow_x": null,
            "overflow_y": null,
            "padding": null,
            "right": null,
            "top": null,
            "visibility": null,
            "width": null
          }
        },
        "48fd815d114e415785e24756d4eaf0fb": {
          "model_module": "@jupyter-widgets/base",
          "model_module_version": "1.2.0",
          "model_name": "LayoutModel",
          "state": {
            "_model_module": "@jupyter-widgets/base",
            "_model_module_version": "1.2.0",
            "_model_name": "LayoutModel",
            "_view_count": null,
            "_view_module": "@jupyter-widgets/base",
            "_view_module_version": "1.2.0",
            "_view_name": "LayoutView",
            "align_content": null,
            "align_items": null,
            "align_self": null,
            "border": null,
            "bottom": null,
            "display": null,
            "flex": null,
            "flex_flow": null,
            "grid_area": null,
            "grid_auto_columns": null,
            "grid_auto_flow": null,
            "grid_auto_rows": null,
            "grid_column": null,
            "grid_gap": null,
            "grid_row": null,
            "grid_template_areas": null,
            "grid_template_columns": null,
            "grid_template_rows": null,
            "height": null,
            "justify_content": null,
            "justify_items": null,
            "left": null,
            "margin": null,
            "max_height": null,
            "max_width": null,
            "min_height": null,
            "min_width": null,
            "object_fit": null,
            "object_position": null,
            "order": null,
            "overflow": null,
            "overflow_x": null,
            "overflow_y": null,
            "padding": null,
            "right": null,
            "top": null,
            "visibility": null,
            "width": null
          }
        },
        "4f2788299214477ba578c7b5bf0410b2": {
          "model_module": "@jupyter-widgets/controls",
          "model_module_version": "1.5.0",
          "model_name": "HTMLModel",
          "state": {
            "_dom_classes": [],
            "_model_module": "@jupyter-widgets/controls",
            "_model_module_version": "1.5.0",
            "_model_name": "HTMLModel",
            "_view_count": null,
            "_view_module": "@jupyter-widgets/controls",
            "_view_module_version": "1.5.0",
            "_view_name": "HTMLView",
            "description": "",
            "description_tooltip": null,
            "layout": "IPY_MODEL_3dd58577d0c84790a7f8fd6a0e42c712",
            "placeholder": "​",
            "style": "IPY_MODEL_a21f332aea974af3a604e5a3cd37242e",
            "value": " 2.32k/2.32k [00:00&lt;00:00, 92.2kB/s]"
          }
        },
        "505c5b5f9b0e477dadd9402270a1f31c": {
          "model_module": "@jupyter-widgets/base",
          "model_module_version": "1.2.0",
          "model_name": "LayoutModel",
          "state": {
            "_model_module": "@jupyter-widgets/base",
            "_model_module_version": "1.2.0",
            "_model_name": "LayoutModel",
            "_view_count": null,
            "_view_module": "@jupyter-widgets/base",
            "_view_module_version": "1.2.0",
            "_view_name": "LayoutView",
            "align_content": null,
            "align_items": null,
            "align_self": null,
            "border": null,
            "bottom": null,
            "display": null,
            "flex": null,
            "flex_flow": null,
            "grid_area": null,
            "grid_auto_columns": null,
            "grid_auto_flow": null,
            "grid_auto_rows": null,
            "grid_column": null,
            "grid_gap": null,
            "grid_row": null,
            "grid_template_areas": null,
            "grid_template_columns": null,
            "grid_template_rows": null,
            "height": null,
            "justify_content": null,
            "justify_items": null,
            "left": null,
            "margin": null,
            "max_height": null,
            "max_width": null,
            "min_height": null,
            "min_width": null,
            "object_fit": null,
            "object_position": null,
            "order": null,
            "overflow": null,
            "overflow_x": null,
            "overflow_y": null,
            "padding": null,
            "right": null,
            "top": null,
            "visibility": null,
            "width": null
          }
        },
        "549c191fcf6d4277ab7a874762df6037": {
          "model_module": "@jupyter-widgets/controls",
          "model_module_version": "1.5.0",
          "model_name": "DescriptionStyleModel",
          "state": {
            "_model_module": "@jupyter-widgets/controls",
            "_model_module_version": "1.5.0",
            "_model_name": "DescriptionStyleModel",
            "_view_count": null,
            "_view_module": "@jupyter-widgets/base",
            "_view_module_version": "1.2.0",
            "_view_name": "StyleView",
            "description_width": ""
          }
        },
        "5ccc263957a646d39ab5851ff2317684": {
          "model_module": "@jupyter-widgets/controls",
          "model_module_version": "1.5.0",
          "model_name": "HBoxModel",
          "state": {
            "_dom_classes": [],
            "_model_module": "@jupyter-widgets/controls",
            "_model_module_version": "1.5.0",
            "_model_name": "HBoxModel",
            "_view_count": null,
            "_view_module": "@jupyter-widgets/controls",
            "_view_module_version": "1.5.0",
            "_view_name": "HBoxView",
            "box_style": "",
            "children": [
              "IPY_MODEL_945e4a80deb544e4844a08946d68bdef",
              "IPY_MODEL_78d303df46bd4bdaaf957cda7a7258b2",
              "IPY_MODEL_4f2788299214477ba578c7b5bf0410b2"
            ],
            "layout": "IPY_MODEL_0727ce662bae45a799a146cedb18e29a"
          }
        },
        "6314b0a2a9b34ea090e7e463151eda10": {
          "model_module": "@jupyter-widgets/controls",
          "model_module_version": "1.5.0",
          "model_name": "HBoxModel",
          "state": {
            "_dom_classes": [],
            "_model_module": "@jupyter-widgets/controls",
            "_model_module_version": "1.5.0",
            "_model_name": "HBoxModel",
            "_view_count": null,
            "_view_module": "@jupyter-widgets/controls",
            "_view_module_version": "1.5.0",
            "_view_name": "HBoxView",
            "box_style": "",
            "children": [
              "IPY_MODEL_2c36e43587434768afa66141013c0427",
              "IPY_MODEL_340d8ea0206048019813dfd2b09d4ed9",
              "IPY_MODEL_785d96c88f354c4dba58ebcf246402c9"
            ],
            "layout": "IPY_MODEL_9e6f3a9faba2434283bcd244f7450732"
          }
        },
        "65ab9b2774294363b3700a04d6ae346a": {
          "model_module": "@jupyter-widgets/controls",
          "model_module_version": "1.5.0",
          "model_name": "FloatProgressModel",
          "state": {
            "_dom_classes": [],
            "_model_module": "@jupyter-widgets/controls",
            "_model_module_version": "1.5.0",
            "_model_name": "FloatProgressModel",
            "_view_count": null,
            "_view_module": "@jupyter-widgets/controls",
            "_view_module_version": "1.5.0",
            "_view_name": "ProgressView",
            "bar_style": "success",
            "description": "",
            "description_tooltip": null,
            "layout": "IPY_MODEL_7ff926bdfe13485f8380a73d52e0a0ef",
            "max": 147,
            "min": 0,
            "orientation": "horizontal",
            "style": "IPY_MODEL_829629553094472bb82c27e8cc658a3d",
            "value": 147
          }
        },
        "68654dc2a61348f2bc0a1583485b1aa9": {
          "model_module": "@jupyter-widgets/controls",
          "model_module_version": "1.5.0",
          "model_name": "FloatProgressModel",
          "state": {
            "_dom_classes": [],
            "_model_module": "@jupyter-widgets/controls",
            "_model_module_version": "1.5.0",
            "_model_name": "FloatProgressModel",
            "_view_count": null,
            "_view_module": "@jupyter-widgets/controls",
            "_view_module_version": "1.5.0",
            "_view_name": "ProgressView",
            "bar_style": "success",
            "description": "",
            "description_tooltip": null,
            "layout": "IPY_MODEL_edb85dace0c640a4b09fc59d7db78a63",
            "max": 242043056,
            "min": 0,
            "orientation": "horizontal",
            "style": "IPY_MODEL_2691869b18e14b9e9d9682ca1eb4766d",
            "value": 242043056
          }
        },
        "695398cd95354851b473d95b8046b56c": {
          "model_module": "@jupyter-widgets/controls",
          "model_module_version": "1.5.0",
          "model_name": "FloatProgressModel",
          "state": {
            "_dom_classes": [],
            "_model_module": "@jupyter-widgets/controls",
            "_model_module_version": "1.5.0",
            "_model_name": "FloatProgressModel",
            "_view_count": null,
            "_view_module": "@jupyter-widgets/controls",
            "_view_module_version": "1.5.0",
            "_view_name": "ProgressView",
            "bar_style": "success",
            "description": "",
            "description_tooltip": null,
            "layout": "IPY_MODEL_00aaedc7bfbe41569c20c840f535a714",
            "max": 1206,
            "min": 0,
            "orientation": "horizontal",
            "style": "IPY_MODEL_b61c5418b4134605a188aad1e0f74f62",
            "value": 1206
          }
        },
        "6991cd898778457bbff86a138bfb0418": {
          "model_module": "@jupyter-widgets/base",
          "model_module_version": "1.2.0",
          "model_name": "LayoutModel",
          "state": {
            "_model_module": "@jupyter-widgets/base",
            "_model_module_version": "1.2.0",
            "_model_name": "LayoutModel",
            "_view_count": null,
            "_view_module": "@jupyter-widgets/base",
            "_view_module_version": "1.2.0",
            "_view_name": "LayoutView",
            "align_content": null,
            "align_items": null,
            "align_self": null,
            "border": null,
            "bottom": null,
            "display": null,
            "flex": null,
            "flex_flow": null,
            "grid_area": null,
            "grid_auto_columns": null,
            "grid_auto_flow": null,
            "grid_auto_rows": null,
            "grid_column": null,
            "grid_gap": null,
            "grid_row": null,
            "grid_template_areas": null,
            "grid_template_columns": null,
            "grid_template_rows": null,
            "height": null,
            "justify_content": null,
            "justify_items": null,
            "left": null,
            "margin": null,
            "max_height": null,
            "max_width": null,
            "min_height": null,
            "min_width": null,
            "object_fit": null,
            "object_position": null,
            "order": null,
            "overflow": null,
            "overflow_x": null,
            "overflow_y": null,
            "padding": null,
            "right": null,
            "top": null,
            "visibility": null,
            "width": null
          }
        },
        "6b274089d33c486f84b3aeebe7bb4f5d": {
          "model_module": "@jupyter-widgets/controls",
          "model_module_version": "1.5.0",
          "model_name": "HTMLModel",
          "state": {
            "_dom_classes": [],
            "_model_module": "@jupyter-widgets/controls",
            "_model_module_version": "1.5.0",
            "_model_name": "HTMLModel",
            "_view_count": null,
            "_view_module": "@jupyter-widgets/controls",
            "_view_module_version": "1.5.0",
            "_view_name": "HTMLView",
            "description": "",
            "description_tooltip": null,
            "layout": "IPY_MODEL_ff7462353c3043ee88bb338c30bd2074",
            "placeholder": "​",
            "style": "IPY_MODEL_38cbaf7135734f8f965ee714d5d06bb4",
            "value": " 147/147 [00:00&lt;00:00, 8.03kB/s]"
          }
        },
        "704b6312932b4778a81cba825fd91f1e": {
          "model_module": "@jupyter-widgets/controls",
          "model_module_version": "1.5.0",
          "model_name": "HTMLModel",
          "state": {
            "_dom_classes": [],
            "_model_module": "@jupyter-widgets/controls",
            "_model_module_version": "1.5.0",
            "_model_name": "HTMLModel",
            "_view_count": null,
            "_view_module": "@jupyter-widgets/controls",
            "_view_module_version": "1.5.0",
            "_view_name": "HTMLView",
            "description": "",
            "description_tooltip": null,
            "layout": "IPY_MODEL_6991cd898778457bbff86a138bfb0418",
            "placeholder": "​",
            "style": "IPY_MODEL_07740a71aa454422ace5a6ec2314910a",
            "value": "generation_config.json: 100%"
          }
        },
        "7616412c718b4eb58ef35eef5da71461": {
          "model_module": "@jupyter-widgets/controls",
          "model_module_version": "1.5.0",
          "model_name": "DescriptionStyleModel",
          "state": {
            "_model_module": "@jupyter-widgets/controls",
            "_model_module_version": "1.5.0",
            "_model_name": "DescriptionStyleModel",
            "_view_count": null,
            "_view_module": "@jupyter-widgets/base",
            "_view_module_version": "1.2.0",
            "_view_name": "StyleView",
            "description_width": ""
          }
        },
        "785d96c88f354c4dba58ebcf246402c9": {
          "model_module": "@jupyter-widgets/controls",
          "model_module_version": "1.5.0",
          "model_name": "HTMLModel",
          "state": {
            "_dom_classes": [],
            "_model_module": "@jupyter-widgets/controls",
            "_model_module_version": "1.5.0",
            "_model_name": "HTMLModel",
            "_view_count": null,
            "_view_module": "@jupyter-widgets/controls",
            "_view_module_version": "1.5.0",
            "_view_name": "HTMLView",
            "description": "",
            "description_tooltip": null,
            "layout": "IPY_MODEL_9be33f1451994a3d9545f5174e411cbf",
            "placeholder": "​",
            "style": "IPY_MODEL_f1e99f4b04b5491295a2b656f12b8fa1",
            "value": " 1.39M/1.39M [00:00&lt;00:00, 4.19MB/s]"
          }
        },
        "78c99b8e10334d24bd2ed874c6185c19": {
          "model_module": "@jupyter-widgets/base",
          "model_module_version": "1.2.0",
          "model_name": "LayoutModel",
          "state": {
            "_model_module": "@jupyter-widgets/base",
            "_model_module_version": "1.2.0",
            "_model_name": "LayoutModel",
            "_view_count": null,
            "_view_module": "@jupyter-widgets/base",
            "_view_module_version": "1.2.0",
            "_view_name": "LayoutView",
            "align_content": null,
            "align_items": null,
            "align_self": null,
            "border": null,
            "bottom": null,
            "display": null,
            "flex": null,
            "flex_flow": null,
            "grid_area": null,
            "grid_auto_columns": null,
            "grid_auto_flow": null,
            "grid_auto_rows": null,
            "grid_column": null,
            "grid_gap": null,
            "grid_row": null,
            "grid_template_areas": null,
            "grid_template_columns": null,
            "grid_template_rows": null,
            "height": null,
            "justify_content": null,
            "justify_items": null,
            "left": null,
            "margin": null,
            "max_height": null,
            "max_width": null,
            "min_height": null,
            "min_width": null,
            "object_fit": null,
            "object_position": null,
            "order": null,
            "overflow": null,
            "overflow_x": null,
            "overflow_y": null,
            "padding": null,
            "right": null,
            "top": null,
            "visibility": null,
            "width": null
          }
        },
        "78d303df46bd4bdaaf957cda7a7258b2": {
          "model_module": "@jupyter-widgets/controls",
          "model_module_version": "1.5.0",
          "model_name": "FloatProgressModel",
          "state": {
            "_dom_classes": [],
            "_model_module": "@jupyter-widgets/controls",
            "_model_module_version": "1.5.0",
            "_model_name": "FloatProgressModel",
            "_view_count": null,
            "_view_module": "@jupyter-widgets/controls",
            "_view_module_version": "1.5.0",
            "_view_name": "ProgressView",
            "bar_style": "success",
            "description": "",
            "description_tooltip": null,
            "layout": "IPY_MODEL_505c5b5f9b0e477dadd9402270a1f31c",
            "max": 2324,
            "min": 0,
            "orientation": "horizontal",
            "style": "IPY_MODEL_3c165cbbdcc440f6b414aa29a9e1f5bc",
            "value": 2324
          }
        },
        "7ff926bdfe13485f8380a73d52e0a0ef": {
          "model_module": "@jupyter-widgets/base",
          "model_module_version": "1.2.0",
          "model_name": "LayoutModel",
          "state": {
            "_model_module": "@jupyter-widgets/base",
            "_model_module_version": "1.2.0",
            "_model_name": "LayoutModel",
            "_view_count": null,
            "_view_module": "@jupyter-widgets/base",
            "_view_module_version": "1.2.0",
            "_view_name": "LayoutView",
            "align_content": null,
            "align_items": null,
            "align_self": null,
            "border": null,
            "bottom": null,
            "display": null,
            "flex": null,
            "flex_flow": null,
            "grid_area": null,
            "grid_auto_columns": null,
            "grid_auto_flow": null,
            "grid_auto_rows": null,
            "grid_column": null,
            "grid_gap": null,
            "grid_row": null,
            "grid_template_areas": null,
            "grid_template_columns": null,
            "grid_template_rows": null,
            "height": null,
            "justify_content": null,
            "justify_items": null,
            "left": null,
            "margin": null,
            "max_height": null,
            "max_width": null,
            "min_height": null,
            "min_width": null,
            "object_fit": null,
            "object_position": null,
            "order": null,
            "overflow": null,
            "overflow_x": null,
            "overflow_y": null,
            "padding": null,
            "right": null,
            "top": null,
            "visibility": null,
            "width": null
          }
        },
        "829629553094472bb82c27e8cc658a3d": {
          "model_module": "@jupyter-widgets/controls",
          "model_module_version": "1.5.0",
          "model_name": "ProgressStyleModel",
          "state": {
            "_model_module": "@jupyter-widgets/controls",
            "_model_module_version": "1.5.0",
            "_model_name": "ProgressStyleModel",
            "_view_count": null,
            "_view_module": "@jupyter-widgets/base",
            "_view_module_version": "1.2.0",
            "_view_name": "StyleView",
            "bar_color": null,
            "description_width": ""
          }
        },
        "86965b1edd884d29a38d4cfcc6fbecaf": {
          "model_module": "@jupyter-widgets/controls",
          "model_module_version": "1.5.0",
          "model_name": "HTMLModel",
          "state": {
            "_dom_classes": [],
            "_model_module": "@jupyter-widgets/controls",
            "_model_module_version": "1.5.0",
            "_model_name": "HTMLModel",
            "_view_count": null,
            "_view_module": "@jupyter-widgets/controls",
            "_view_module_version": "1.5.0",
            "_view_name": "HTMLView",
            "description": "",
            "description_tooltip": null,
            "layout": "IPY_MODEL_b2010f6e6a714d28af661a3a174a8f3d",
            "placeholder": "​",
            "style": "IPY_MODEL_be90868c5e4843e5a15380a79696a375",
            "value": " 1.21k/1.21k [00:00&lt;00:00, 47.5kB/s]"
          }
        },
        "887bb08a205a4d5f91ec56df1edea412": {
          "model_module": "@jupyter-widgets/controls",
          "model_module_version": "1.5.0",
          "model_name": "HBoxModel",
          "state": {
            "_dom_classes": [],
            "_model_module": "@jupyter-widgets/controls",
            "_model_module_version": "1.5.0",
            "_model_name": "HBoxModel",
            "_view_count": null,
            "_view_module": "@jupyter-widgets/controls",
            "_view_module_version": "1.5.0",
            "_view_name": "HBoxView",
            "box_style": "",
            "children": [
              "IPY_MODEL_704b6312932b4778a81cba825fd91f1e",
              "IPY_MODEL_65ab9b2774294363b3700a04d6ae346a",
              "IPY_MODEL_6b274089d33c486f84b3aeebe7bb4f5d"
            ],
            "layout": "IPY_MODEL_3daa3d02a371464f8524c131ec2876f5"
          }
        },
        "8c520bd437634856af251a8d853df5fc": {
          "model_module": "@jupyter-widgets/base",
          "model_module_version": "1.2.0",
          "model_name": "LayoutModel",
          "state": {
            "_model_module": "@jupyter-widgets/base",
            "_model_module_version": "1.2.0",
            "_model_name": "LayoutModel",
            "_view_count": null,
            "_view_module": "@jupyter-widgets/base",
            "_view_module_version": "1.2.0",
            "_view_name": "LayoutView",
            "align_content": null,
            "align_items": null,
            "align_self": null,
            "border": null,
            "bottom": null,
            "display": null,
            "flex": null,
            "flex_flow": null,
            "grid_area": null,
            "grid_auto_columns": null,
            "grid_auto_flow": null,
            "grid_auto_rows": null,
            "grid_column": null,
            "grid_gap": null,
            "grid_row": null,
            "grid_template_areas": null,
            "grid_template_columns": null,
            "grid_template_rows": null,
            "height": null,
            "justify_content": null,
            "justify_items": null,
            "left": null,
            "margin": null,
            "max_height": null,
            "max_width": null,
            "min_height": null,
            "min_width": null,
            "object_fit": null,
            "object_position": null,
            "order": null,
            "overflow": null,
            "overflow_x": null,
            "overflow_y": null,
            "padding": null,
            "right": null,
            "top": null,
            "visibility": null,
            "width": null
          }
        },
        "8f1238438bc14649ade957b14041fd39": {
          "model_module": "@jupyter-widgets/controls",
          "model_module_version": "1.5.0",
          "model_name": "HBoxModel",
          "state": {
            "_dom_classes": [],
            "_model_module": "@jupyter-widgets/controls",
            "_model_module_version": "1.5.0",
            "_model_name": "HBoxModel",
            "_view_count": null,
            "_view_module": "@jupyter-widgets/controls",
            "_view_module_version": "1.5.0",
            "_view_name": "HBoxView",
            "box_style": "",
            "children": [
              "IPY_MODEL_c6ce4ec0c81741178de6e2dc970df738",
              "IPY_MODEL_68654dc2a61348f2bc0a1583485b1aa9",
              "IPY_MODEL_c7b0fbf04c5d43f6bad336e5db9f614d"
            ],
            "layout": "IPY_MODEL_d86dcc3701824e9c9f7ddb3e0043fc82"
          }
        },
        "90ffe0c90890462bb108ed90009395ac": {
          "model_module": "@jupyter-widgets/base",
          "model_module_version": "1.2.0",
          "model_name": "LayoutModel",
          "state": {
            "_model_module": "@jupyter-widgets/base",
            "_model_module_version": "1.2.0",
            "_model_name": "LayoutModel",
            "_view_count": null,
            "_view_module": "@jupyter-widgets/base",
            "_view_module_version": "1.2.0",
            "_view_name": "LayoutView",
            "align_content": null,
            "align_items": null,
            "align_self": null,
            "border": null,
            "bottom": null,
            "display": null,
            "flex": null,
            "flex_flow": null,
            "grid_area": null,
            "grid_auto_columns": null,
            "grid_auto_flow": null,
            "grid_auto_rows": null,
            "grid_column": null,
            "grid_gap": null,
            "grid_row": null,
            "grid_template_areas": null,
            "grid_template_columns": null,
            "grid_template_rows": null,
            "height": null,
            "justify_content": null,
            "justify_items": null,
            "left": null,
            "margin": null,
            "max_height": null,
            "max_width": null,
            "min_height": null,
            "min_width": null,
            "object_fit": null,
            "object_position": null,
            "order": null,
            "overflow": null,
            "overflow_x": null,
            "overflow_y": null,
            "padding": null,
            "right": null,
            "top": null,
            "visibility": null,
            "width": null
          }
        },
        "920a49c5a24f4214aa0b50a7c585fc98": {
          "model_module": "@jupyter-widgets/controls",
          "model_module_version": "1.5.0",
          "model_name": "ProgressStyleModel",
          "state": {
            "_model_module": "@jupyter-widgets/controls",
            "_model_module_version": "1.5.0",
            "_model_name": "ProgressStyleModel",
            "_view_count": null,
            "_view_module": "@jupyter-widgets/base",
            "_view_module_version": "1.2.0",
            "_view_name": "StyleView",
            "bar_color": null,
            "description_width": ""
          }
        },
        "945e4a80deb544e4844a08946d68bdef": {
          "model_module": "@jupyter-widgets/controls",
          "model_module_version": "1.5.0",
          "model_name": "HTMLModel",
          "state": {
            "_dom_classes": [],
            "_model_module": "@jupyter-widgets/controls",
            "_model_module_version": "1.5.0",
            "_model_name": "HTMLModel",
            "_view_count": null,
            "_view_module": "@jupyter-widgets/controls",
            "_view_module_version": "1.5.0",
            "_view_name": "HTMLView",
            "description": "",
            "description_tooltip": null,
            "layout": "IPY_MODEL_fc838eff51e34ad1ad1ace8b40fa2291",
            "placeholder": "​",
            "style": "IPY_MODEL_549c191fcf6d4277ab7a874762df6037",
            "value": "tokenizer_config.json: 100%"
          }
        },
        "9be33f1451994a3d9545f5174e411cbf": {
          "model_module": "@jupyter-widgets/base",
          "model_module_version": "1.2.0",
          "model_name": "LayoutModel",
          "state": {
            "_model_module": "@jupyter-widgets/base",
            "_model_module_version": "1.2.0",
            "_model_name": "LayoutModel",
            "_view_count": null,
            "_view_module": "@jupyter-widgets/base",
            "_view_module_version": "1.2.0",
            "_view_name": "LayoutView",
            "align_content": null,
            "align_items": null,
            "align_self": null,
            "border": null,
            "bottom": null,
            "display": null,
            "flex": null,
            "flex_flow": null,
            "grid_area": null,
            "grid_auto_columns": null,
            "grid_auto_flow": null,
            "grid_auto_rows": null,
            "grid_column": null,
            "grid_gap": null,
            "grid_row": null,
            "grid_template_areas": null,
            "grid_template_columns": null,
            "grid_template_rows": null,
            "height": null,
            "justify_content": null,
            "justify_items": null,
            "left": null,
            "margin": null,
            "max_height": null,
            "max_width": null,
            "min_height": null,
            "min_width": null,
            "object_fit": null,
            "object_position": null,
            "order": null,
            "overflow": null,
            "overflow_x": null,
            "overflow_y": null,
            "padding": null,
            "right": null,
            "top": null,
            "visibility": null,
            "width": null
          }
        },
        "9e6f3a9faba2434283bcd244f7450732": {
          "model_module": "@jupyter-widgets/base",
          "model_module_version": "1.2.0",
          "model_name": "LayoutModel",
          "state": {
            "_model_module": "@jupyter-widgets/base",
            "_model_module_version": "1.2.0",
            "_model_name": "LayoutModel",
            "_view_count": null,
            "_view_module": "@jupyter-widgets/base",
            "_view_module_version": "1.2.0",
            "_view_name": "LayoutView",
            "align_content": null,
            "align_items": null,
            "align_self": null,
            "border": null,
            "bottom": null,
            "display": null,
            "flex": null,
            "flex_flow": null,
            "grid_area": null,
            "grid_auto_columns": null,
            "grid_auto_flow": null,
            "grid_auto_rows": null,
            "grid_column": null,
            "grid_gap": null,
            "grid_row": null,
            "grid_template_areas": null,
            "grid_template_columns": null,
            "grid_template_rows": null,
            "height": null,
            "justify_content": null,
            "justify_items": null,
            "left": null,
            "margin": null,
            "max_height": null,
            "max_width": null,
            "min_height": null,
            "min_width": null,
            "object_fit": null,
            "object_position": null,
            "order": null,
            "overflow": null,
            "overflow_x": null,
            "overflow_y": null,
            "padding": null,
            "right": null,
            "top": null,
            "visibility": null,
            "width": null
          }
        },
        "a21f332aea974af3a604e5a3cd37242e": {
          "model_module": "@jupyter-widgets/controls",
          "model_module_version": "1.5.0",
          "model_name": "DescriptionStyleModel",
          "state": {
            "_model_module": "@jupyter-widgets/controls",
            "_model_module_version": "1.5.0",
            "_model_name": "DescriptionStyleModel",
            "_view_count": null,
            "_view_module": "@jupyter-widgets/base",
            "_view_module_version": "1.2.0",
            "_view_name": "StyleView",
            "description_width": ""
          }
        },
        "b2010f6e6a714d28af661a3a174a8f3d": {
          "model_module": "@jupyter-widgets/base",
          "model_module_version": "1.2.0",
          "model_name": "LayoutModel",
          "state": {
            "_model_module": "@jupyter-widgets/base",
            "_model_module_version": "1.2.0",
            "_model_name": "LayoutModel",
            "_view_count": null,
            "_view_module": "@jupyter-widgets/base",
            "_view_module_version": "1.2.0",
            "_view_name": "LayoutView",
            "align_content": null,
            "align_items": null,
            "align_self": null,
            "border": null,
            "bottom": null,
            "display": null,
            "flex": null,
            "flex_flow": null,
            "grid_area": null,
            "grid_auto_columns": null,
            "grid_auto_flow": null,
            "grid_auto_rows": null,
            "grid_column": null,
            "grid_gap": null,
            "grid_row": null,
            "grid_template_areas": null,
            "grid_template_columns": null,
            "grid_template_rows": null,
            "height": null,
            "justify_content": null,
            "justify_items": null,
            "left": null,
            "margin": null,
            "max_height": null,
            "max_width": null,
            "min_height": null,
            "min_width": null,
            "object_fit": null,
            "object_position": null,
            "order": null,
            "overflow": null,
            "overflow_x": null,
            "overflow_y": null,
            "padding": null,
            "right": null,
            "top": null,
            "visibility": null,
            "width": null
          }
        },
        "b61c5418b4134605a188aad1e0f74f62": {
          "model_module": "@jupyter-widgets/controls",
          "model_module_version": "1.5.0",
          "model_name": "ProgressStyleModel",
          "state": {
            "_model_module": "@jupyter-widgets/controls",
            "_model_module_version": "1.5.0",
            "_model_name": "ProgressStyleModel",
            "_view_count": null,
            "_view_module": "@jupyter-widgets/base",
            "_view_module_version": "1.2.0",
            "_view_name": "StyleView",
            "bar_color": null,
            "description_width": ""
          }
        },
        "bd11092b233945b4aae4403bcaf2b89d": {
          "model_module": "@jupyter-widgets/base",
          "model_module_version": "1.2.0",
          "model_name": "LayoutModel",
          "state": {
            "_model_module": "@jupyter-widgets/base",
            "_model_module_version": "1.2.0",
            "_model_name": "LayoutModel",
            "_view_count": null,
            "_view_module": "@jupyter-widgets/base",
            "_view_module_version": "1.2.0",
            "_view_name": "LayoutView",
            "align_content": null,
            "align_items": null,
            "align_self": null,
            "border": null,
            "bottom": null,
            "display": null,
            "flex": null,
            "flex_flow": null,
            "grid_area": null,
            "grid_auto_columns": null,
            "grid_auto_flow": null,
            "grid_auto_rows": null,
            "grid_column": null,
            "grid_gap": null,
            "grid_row": null,
            "grid_template_areas": null,
            "grid_template_columns": null,
            "grid_template_rows": null,
            "height": null,
            "justify_content": null,
            "justify_items": null,
            "left": null,
            "margin": null,
            "max_height": null,
            "max_width": null,
            "min_height": null,
            "min_width": null,
            "object_fit": null,
            "object_position": null,
            "order": null,
            "overflow": null,
            "overflow_x": null,
            "overflow_y": null,
            "padding": null,
            "right": null,
            "top": null,
            "visibility": null,
            "width": null
          }
        },
        "be90868c5e4843e5a15380a79696a375": {
          "model_module": "@jupyter-widgets/controls",
          "model_module_version": "1.5.0",
          "model_name": "DescriptionStyleModel",
          "state": {
            "_model_module": "@jupyter-widgets/controls",
            "_model_module_version": "1.5.0",
            "_model_name": "DescriptionStyleModel",
            "_view_count": null,
            "_view_module": "@jupyter-widgets/base",
            "_view_module_version": "1.2.0",
            "_view_name": "StyleView",
            "description_width": ""
          }
        },
        "c6ce4ec0c81741178de6e2dc970df738": {
          "model_module": "@jupyter-widgets/controls",
          "model_module_version": "1.5.0",
          "model_name": "HTMLModel",
          "state": {
            "_dom_classes": [],
            "_model_module": "@jupyter-widgets/controls",
            "_model_module_version": "1.5.0",
            "_model_name": "HTMLModel",
            "_view_count": null,
            "_view_module": "@jupyter-widgets/controls",
            "_view_module_version": "1.5.0",
            "_view_name": "HTMLView",
            "description": "",
            "description_tooltip": null,
            "layout": "IPY_MODEL_78c99b8e10334d24bd2ed874c6185c19",
            "placeholder": "​",
            "style": "IPY_MODEL_07a19f0d241b49309f8c677848b45a6a",
            "value": "model.safetensors: 100%"
          }
        },
        "c7b0fbf04c5d43f6bad336e5db9f614d": {
          "model_module": "@jupyter-widgets/controls",
          "model_module_version": "1.5.0",
          "model_name": "HTMLModel",
          "state": {
            "_dom_classes": [],
            "_model_module": "@jupyter-widgets/controls",
            "_model_module_version": "1.5.0",
            "_model_name": "HTMLModel",
            "_view_count": null,
            "_view_module": "@jupyter-widgets/controls",
            "_view_module_version": "1.5.0",
            "_view_name": "HTMLView",
            "description": "",
            "description_tooltip": null,
            "layout": "IPY_MODEL_11d91bcd336f4e5cb60fc171a60bbd69",
            "placeholder": "​",
            "style": "IPY_MODEL_ee28b20d08f04a5a857dded0fa8585d2",
            "value": " 242M/242M [00:09&lt;00:00, 25.6MB/s]"
          }
        },
        "c95cbfa41fe540e0bd119aceadef8584": {
          "model_module": "@jupyter-widgets/controls",
          "model_module_version": "1.5.0",
          "model_name": "HBoxModel",
          "state": {
            "_dom_classes": [],
            "_model_module": "@jupyter-widgets/controls",
            "_model_module_version": "1.5.0",
            "_model_name": "HBoxModel",
            "_view_count": null,
            "_view_module": "@jupyter-widgets/controls",
            "_view_module_version": "1.5.0",
            "_view_name": "HBoxView",
            "box_style": "",
            "children": [
              "IPY_MODEL_331f7c44f3664e9b90cee9a0d71c588a",
              "IPY_MODEL_419f398b67b84c5a88bae6e27fa4ae32",
              "IPY_MODEL_3e37b4ef65d448eaa08216dae7f2131e"
            ],
            "layout": "IPY_MODEL_48fd815d114e415785e24756d4eaf0fb"
          }
        },
        "d86dcc3701824e9c9f7ddb3e0043fc82": {
          "model_module": "@jupyter-widgets/base",
          "model_module_version": "1.2.0",
          "model_name": "LayoutModel",
          "state": {
            "_model_module": "@jupyter-widgets/base",
            "_model_module_version": "1.2.0",
            "_model_name": "LayoutModel",
            "_view_count": null,
            "_view_module": "@jupyter-widgets/base",
            "_view_module_version": "1.2.0",
            "_view_name": "LayoutView",
            "align_content": null,
            "align_items": null,
            "align_self": null,
            "border": null,
            "bottom": null,
            "display": null,
            "flex": null,
            "flex_flow": null,
            "grid_area": null,
            "grid_auto_columns": null,
            "grid_auto_flow": null,
            "grid_auto_rows": null,
            "grid_column": null,
            "grid_gap": null,
            "grid_row": null,
            "grid_template_areas": null,
            "grid_template_columns": null,
            "grid_template_rows": null,
            "height": null,
            "justify_content": null,
            "justify_items": null,
            "left": null,
            "margin": null,
            "max_height": null,
            "max_width": null,
            "min_height": null,
            "min_width": null,
            "object_fit": null,
            "object_position": null,
            "order": null,
            "overflow": null,
            "overflow_x": null,
            "overflow_y": null,
            "padding": null,
            "right": null,
            "top": null,
            "visibility": null,
            "width": null
          }
        },
        "dc05f00821554f0b9549e7536d017f0f": {
          "model_module": "@jupyter-widgets/controls",
          "model_module_version": "1.5.0",
          "model_name": "DescriptionStyleModel",
          "state": {
            "_model_module": "@jupyter-widgets/controls",
            "_model_module_version": "1.5.0",
            "_model_name": "DescriptionStyleModel",
            "_view_count": null,
            "_view_module": "@jupyter-widgets/base",
            "_view_module_version": "1.2.0",
            "_view_name": "StyleView",
            "description_width": ""
          }
        },
        "e86e364d62bd4f1a9d4ead3036827b3d": {
          "model_module": "@jupyter-widgets/controls",
          "model_module_version": "1.5.0",
          "model_name": "ProgressStyleModel",
          "state": {
            "_model_module": "@jupyter-widgets/controls",
            "_model_module_version": "1.5.0",
            "_model_name": "ProgressStyleModel",
            "_view_count": null,
            "_view_module": "@jupyter-widgets/base",
            "_view_module_version": "1.2.0",
            "_view_name": "StyleView",
            "bar_color": null,
            "description_width": ""
          }
        },
        "edb85dace0c640a4b09fc59d7db78a63": {
          "model_module": "@jupyter-widgets/base",
          "model_module_version": "1.2.0",
          "model_name": "LayoutModel",
          "state": {
            "_model_module": "@jupyter-widgets/base",
            "_model_module_version": "1.2.0",
            "_model_name": "LayoutModel",
            "_view_count": null,
            "_view_module": "@jupyter-widgets/base",
            "_view_module_version": "1.2.0",
            "_view_name": "LayoutView",
            "align_content": null,
            "align_items": null,
            "align_self": null,
            "border": null,
            "bottom": null,
            "display": null,
            "flex": null,
            "flex_flow": null,
            "grid_area": null,
            "grid_auto_columns": null,
            "grid_auto_flow": null,
            "grid_auto_rows": null,
            "grid_column": null,
            "grid_gap": null,
            "grid_row": null,
            "grid_template_areas": null,
            "grid_template_columns": null,
            "grid_template_rows": null,
            "height": null,
            "justify_content": null,
            "justify_items": null,
            "left": null,
            "margin": null,
            "max_height": null,
            "max_width": null,
            "min_height": null,
            "min_width": null,
            "object_fit": null,
            "object_position": null,
            "order": null,
            "overflow": null,
            "overflow_x": null,
            "overflow_y": null,
            "padding": null,
            "right": null,
            "top": null,
            "visibility": null,
            "width": null
          }
        },
        "ee28b20d08f04a5a857dded0fa8585d2": {
          "model_module": "@jupyter-widgets/controls",
          "model_module_version": "1.5.0",
          "model_name": "DescriptionStyleModel",
          "state": {
            "_model_module": "@jupyter-widgets/controls",
            "_model_module_version": "1.5.0",
            "_model_name": "DescriptionStyleModel",
            "_view_count": null,
            "_view_module": "@jupyter-widgets/base",
            "_view_module_version": "1.2.0",
            "_view_name": "StyleView",
            "description_width": ""
          }
        },
        "f1e99f4b04b5491295a2b656f12b8fa1": {
          "model_module": "@jupyter-widgets/controls",
          "model_module_version": "1.5.0",
          "model_name": "DescriptionStyleModel",
          "state": {
            "_model_module": "@jupyter-widgets/controls",
            "_model_module_version": "1.5.0",
            "_model_name": "DescriptionStyleModel",
            "_view_count": null,
            "_view_module": "@jupyter-widgets/base",
            "_view_module_version": "1.2.0",
            "_view_name": "StyleView",
            "description_width": ""
          }
        },
        "fc838eff51e34ad1ad1ace8b40fa2291": {
          "model_module": "@jupyter-widgets/base",
          "model_module_version": "1.2.0",
          "model_name": "LayoutModel",
          "state": {
            "_model_module": "@jupyter-widgets/base",
            "_model_module_version": "1.2.0",
            "_model_name": "LayoutModel",
            "_view_count": null,
            "_view_module": "@jupyter-widgets/base",
            "_view_module_version": "1.2.0",
            "_view_name": "LayoutView",
            "align_content": null,
            "align_items": null,
            "align_self": null,
            "border": null,
            "bottom": null,
            "display": null,
            "flex": null,
            "flex_flow": null,
            "grid_area": null,
            "grid_auto_columns": null,
            "grid_auto_flow": null,
            "grid_auto_rows": null,
            "grid_column": null,
            "grid_gap": null,
            "grid_row": null,
            "grid_template_areas": null,
            "grid_template_columns": null,
            "grid_template_rows": null,
            "height": null,
            "justify_content": null,
            "justify_items": null,
            "left": null,
            "margin": null,
            "max_height": null,
            "max_width": null,
            "min_height": null,
            "min_width": null,
            "object_fit": null,
            "object_position": null,
            "order": null,
            "overflow": null,
            "overflow_x": null,
            "overflow_y": null,
            "padding": null,
            "right": null,
            "top": null,
            "visibility": null,
            "width": null
          }
        },
        "ff7462353c3043ee88bb338c30bd2074": {
          "model_module": "@jupyter-widgets/base",
          "model_module_version": "1.2.0",
          "model_name": "LayoutModel",
          "state": {
            "_model_module": "@jupyter-widgets/base",
            "_model_module_version": "1.2.0",
            "_model_name": "LayoutModel",
            "_view_count": null,
            "_view_module": "@jupyter-widgets/base",
            "_view_module_version": "1.2.0",
            "_view_name": "LayoutView",
            "align_content": null,
            "align_items": null,
            "align_self": null,
            "border": null,
            "bottom": null,
            "display": null,
            "flex": null,
            "flex_flow": null,
            "grid_area": null,
            "grid_auto_columns": null,
            "grid_auto_flow": null,
            "grid_auto_rows": null,
            "grid_column": null,
            "grid_gap": null,
            "grid_row": null,
            "grid_template_areas": null,
            "grid_template_columns": null,
            "grid_template_rows": null,
            "height": null,
            "justify_content": null,
            "justify_items": null,
            "left": null,
            "margin": null,
            "max_height": null,
            "max_width": null,
            "min_height": null,
            "min_width": null,
            "object_fit": null,
            "object_position": null,
            "order": null,
            "overflow": null,
            "overflow_x": null,
            "overflow_y": null,
            "padding": null,
            "right": null,
            "top": null,
            "visibility": null,
            "width": null
          }
        }
      }
    }
  },
  "nbformat": 4,
  "nbformat_minor": 0
}